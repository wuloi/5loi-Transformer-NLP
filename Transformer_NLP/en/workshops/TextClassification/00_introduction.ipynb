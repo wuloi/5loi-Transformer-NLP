{
 "cells": [
  {
   "cell_type": "markdown",
   "id": "b2a97822",
   "metadata": {},
   "source": [
    "![DLI Header](images/DLI_Header.png)"
   ]
  },
  {
   "cell_type": "markdown",
   "id": "07afae39",
   "metadata": {},
   "source": [
    "# Text Classification #"
   ]
  },
  {
   "cell_type": "markdown",
   "id": "39d2b170",
   "metadata": {},
   "source": [
    "## 00 - Introduction ##"
   ]
  },
  {
   "cell_type": "markdown",
   "id": "c47db7a2",
   "metadata": {},
   "source": [
    "Welcome to the course!\n",
    "\n",
    "In natural language processing, text classification assigns labels to a piece of text. It can be used to accurately and efficiently detect and classify key information. In this course, you will learn to perform text classification by fine-tuning a pre-trained model. By the time you complete this course, you will be able to: \n",
    "\n",
    "* Describe how text classification is used in natural language processing\n",
    "* Use pre-trained language models to perform text classification\n",
    "* Develop a custom text classification model for specific industries"
   ]
  },
  {
   "cell_type": "markdown",
   "id": "de573b12",
   "metadata": {},
   "source": [
    "### Course Structure ###"
   ]
  },
  {
   "cell_type": "markdown",
   "id": "2b457bbb",
   "metadata": {},
   "source": [
    "This course consists of several short interactive notebooks which demonstrate relevant techniques.\n",
    "\n",
    "1. **Introduction**: This notebook.\n",
    "2. **Sentiment Analysis with Pre-Trained Model**: In this notebook, you will learn to use a pre-trained text classification model. \n",
    "3. **Intent and Slot Classification Model**: In this notebook, you will learn to fine-tune a pre-trained language model to perform intent and slot classification. "
   ]
  },
  {
   "cell_type": "markdown",
   "id": "ac46356b",
   "metadata": {},
   "source": [
    "### JupyterLab ###\n",
    "\n",
    "For this hands-on lab, we use [JupyterLab](https://jupyterlab.readthedocs.io/en/stable/) to manage our environment.  The [JupyterLab Interface](https://jupyterlab.readthedocs.io/en/stable/user/interface.html) is a dashboard that provides access to interactive iPython notebooks, as well as the folder structure of our environment and a terminal window into the Ubuntu operating system. The first view you'll see includes a **menu bar** at the top, a **file browser** in the **left sidebar**, and a **main work area** that is initially open to the \"Launcher\" page. \n",
    "\n",
    "<img src=\"images/jl_launcher.png\">\n",
    "\n",
    "The file browser can be navigated just like any other file explorer. A double click on any of the items will open a new tab with its content.\n",
    "\n",
    "The main work area includes tabbed views of open files that can be closed, moved, and edited as needed. \n",
    "\n",
    "The notebooks, including this one, consist of a series of content and code **cells**.  To execute code in a code cell, press `Shift+Enter` or the \"Run\" button in the menu bar above, while a cell is highlighted. Sometimes, a content cell will get switched to editing mode. Pressing `Shift+Enter` will switch it back to a readable form.\n",
    "\n",
    "Try executing the simple print statement in the cell below."
   ]
  },
  {
   "cell_type": "code",
   "execution_count": null,
   "id": "7c398110",
   "metadata": {},
   "outputs": [],
   "source": [
    "# Highlight this cell and click [Shift+Enter] to execute\n",
    "print('This is just a simple print statement. ')"
   ]
  },
  {
   "cell_type": "markdown",
   "id": "3a2a134a",
   "metadata": {},
   "source": [
    "**Well Done!** When you're ready, let's move to the [next notebook](./01_named_entity_recognition_with_pre-trained_model.ipynb)."
   ]
  },
  {
   "cell_type": "markdown",
   "id": "c1a4ab67",
   "metadata": {},
   "source": [
    "![DLI Header](images/DLI_Header.png)"
   ]
  }
 ],
 "metadata": {
  "kernelspec": {
   "display_name": "Python 3 (ipykernel)",
   "language": "python",
   "name": "python3"
  },
  "language_info": {
   "codemirror_mode": {
    "name": "ipython",
    "version": 3
   },
   "file_extension": ".py",
   "mimetype": "text/x-python",
   "name": "python",
   "nbconvert_exporter": "python",
   "pygments_lexer": "ipython3",
   "version": "3.10.6"
  }
 },
 "nbformat": 4,
 "nbformat_minor": 5
}
