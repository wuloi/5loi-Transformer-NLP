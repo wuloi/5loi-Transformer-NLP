{
 "cells": [
  {
   "cell_type": "markdown",
   "id": "e9180f03",
   "metadata": {},
   "source": [
    "![DLI Header](images/DLI_Header.png)"
   ]
  },
  {
   "cell_type": "markdown",
   "id": "52a4cf24",
   "metadata": {},
   "source": [
    "# Token Classification with Large Language Models #"
   ]
  },
  {
   "cell_type": "markdown",
   "id": "7a0f1419",
   "metadata": {},
   "source": [
    "## 00 - Introduction ##"
   ]
  },
  {
   "cell_type": "markdown",
   "id": "5999d332",
   "metadata": {},
   "source": [
    "Welcome to the course!\n",
    "\n",
    "In natural language processing, token classification assigns labels to tokens in a piece of text. It can be used to accurately and efficiently detect and classify key information. In this course, you will learn to perform token classification using a pre-trained model as well as developing a custom model. By the time you complete this course, you will be able to: \n",
    "\n",
    "* Describe how token classification is used in natural language processing\n",
    "* Use pre-trained language models to perform token classification\n",
    "* Develop a custom token classification model for specific industries"
   ]
  },
  {
   "cell_type": "markdown",
   "id": "f265a399",
   "metadata": {},
   "source": [
    "### Course Structure ###"
   ]
  },
  {
   "cell_type": "markdown",
   "id": "c2eb2b17",
   "metadata": {},
   "source": [
    "This course consists of several short interactive notebooks which demonstrate relevant techniques.\n",
    "\n",
    "1. **Introduction**: This notebook.\n",
    "2. **Named Entity Recognition with Pre-Trained Model**: In this notebook, you will learn to use a pre-trained token classification model. \n",
    "3. **Domain-Specific Token Classification Model**: In this notebook, you will learn to fine-tune a pre-trained language model to perform token classification for specific domains. "
   ]
  },
  {
   "cell_type": "markdown",
   "id": "e71d6dd4",
   "metadata": {},
   "source": [
    "### JupyterLab ###\n",
    "\n",
    "For this hands-on lab, we use [JupyterLab](https://jupyterlab.readthedocs.io/en/stable/) to manage our environment.  The [JupyterLab Interface](https://jupyterlab.readthedocs.io/en/stable/user/interface.html) is a dashboard that provides access to interactive iPython notebooks, as well as the folder structure of our environment and a terminal window into the Ubuntu operating system. The first view you'll see includes a **menu bar** at the top, a **file browser** in the **left sidebar**, and a **main work area** that is initially open to the \"Launcher\" page. \n",
    "\n",
    "<img src=\"images/jl_launcher.png\">\n",
    "\n",
    "The file browser can be navigated just like any other file explorer. A double click on any of the items will open a new tab with its content.\n",
    "\n",
    "The main work area includes tabbed views of open files that can be closed, moved, and edited as needed. \n",
    "\n",
    "The notebooks, including this one, consist of a series of content and code **cells**.  To execute code in a code cell, press `Shift+Enter` or the \"Run\" button in the menu bar above, while a cell is highlighted. Sometimes, a content cell will get switched to editing mode. Pressing `Shift+Enter` will switch it back to a readable form.\n",
    "\n",
    "Try executing the simple print statement in the cell below."
   ]
  },
  {
   "cell_type": "code",
   "execution_count": 1,
   "id": "1af2be82",
   "metadata": {},
   "outputs": [
    {
     "name": "stdout",
     "output_type": "stream",
     "text": [
      "This is just a simple print statement. \n"
     ]
    }
   ],
   "source": [
    "# Highlight this cell and click [Shift+Enter] to execute\n",
    "print('This is just a simple print statement. ')"
   ]
  },
  {
   "cell_type": "markdown",
   "id": "d53c7549",
   "metadata": {},
   "source": [
    "**Well Done!** When you're ready, let's move to the [next notebook](./01_named_entity_recognition_with_pre-trained_model.ipynb)."
   ]
  },
  {
   "cell_type": "markdown",
   "id": "d901ca4c",
   "metadata": {},
   "source": [
    "![DLI Header](images/DLI_Header.png)"
   ]
  }
 ],
 "metadata": {
  "kernelspec": {
   "display_name": "Python 3 (ipykernel)",
   "language": "python",
   "name": "python3"
  },
  "language_info": {
   "codemirror_mode": {
    "name": "ipython",
    "version": 3
   },
   "file_extension": ".py",
   "mimetype": "text/x-python",
   "name": "python",
   "nbconvert_exporter": "python",
   "pygments_lexer": "ipython3",
   "version": "3.10.12"
  }
 },
 "nbformat": 4,
 "nbformat_minor": 5
}
