{
 "cells": [
  {
   "cell_type": "markdown",
   "id": "901d0bee",
   "metadata": {},
   "source": [
    "![DLI Header](images/DLI_Header.png)"
   ]
  },
  {
   "cell_type": "markdown",
   "id": "501e5e7e",
   "metadata": {
    "id": "tiIOhb7iVC3J"
   },
   "source": [
    "# Overview"
   ]
  },
  {
   "cell_type": "markdown",
   "id": "b2fbc29d",
   "metadata": {
    "id": "PucJwfbhVC3L"
   },
   "source": [
    "## Task Description\n",
    "\n",
    "- Given a context and a natural language query, we want to generate an answer for the query\n",
    "- Depending on how the answer is generated, the task can be broadly divided into two types:\n",
    "    1. Extractive Question Answering\n",
    "    2. <b>Generative Question Answering</b>\n",
    "\n",
    "### Generative Question-Answering with S2S and GPT-like models\n",
    "\n",
    "Given a question and a context, both in natural language, generate an answer for the question. Unlike the BERT-like models, there is no constraint that the answer should be a span within the context."
   ]
  },
  {
   "cell_type": "code",
   "execution_count": null,
   "id": "ec940534",
   "metadata": {
    "id": "_xQBtr0KVC3M"
   },
   "outputs": [],
   "source": [
    "BRANCH = 'main'"
   ]
  },
  {
   "cell_type": "markdown",
   "id": "829cb1c5",
   "metadata": {
    "id": "fof5-57iVC3N"
   },
   "source": [
    "# Imports and constants"
   ]
  },
  {
   "cell_type": "code",
   "execution_count": null,
   "id": "92dfc336",
   "metadata": {
    "id": "KqKD-wReVC3O"
   },
   "outputs": [],
   "source": [
    "import os\n",
    "import wget\n",
    "import gc\n",
    "\n",
    "import pytorch_lightning as pl\n",
    "from omegaconf import OmegaConf\n",
    "\n",
    "from nemo.collections.nlp.models.question_answering.qa_gpt_model import GPTQAModel\n",
    "from nemo.collections.nlp.models.question_answering.qa_s2s_model import S2SQAModel\n",
    "\n",
    "gc.disable()"
   ]
  },
  {
   "cell_type": "code",
   "execution_count": null,
   "id": "0be31d7a",
   "metadata": {
    "id": "xhPr9Jf_VC3O"
   },
   "outputs": [],
   "source": [
    "# set the following paths\n",
    "DATA_DIR = \"data\" # directory for storing datasets\n",
    "WORK_DIR = \"work_dir\" # directory for storing trained models, logs, additionally downloaded scripts\n",
    "\n",
    "os.makedirs(DATA_DIR, exist_ok=True)\n",
    "os.makedirs(WORK_DIR, exist_ok=True)"
   ]
  },
  {
   "cell_type": "markdown",
   "id": "8c4c0011",
   "metadata": {
    "id": "dWymW8e0VC3O"
   },
   "source": [
    "# Configuration"
   ]
  },
  {
   "cell_type": "markdown",
   "id": "7a293dca",
   "metadata": {
    "id": "0YhKTkuXVC3P"
   },
   "source": [
    "The model is defined in a config file which declares multiple important sections:\n",
    "- **model**: All arguments that will relate to the Model - language model, span prediction, optimizer and schedulers, datasets and any other related information\n",
    "- **trainer**: Any argument to be passed to PyTorch Lightning\n",
    "- **exp_manager**: All arguments used for setting up the experiment manager - target directory, name, logger information\n",
    "\n",
    "We will download the default config file provided at `NeMo/examples/nlp/question_answering/conf/qa_conf.yaml` and edit necessary values for training different models"
   ]
  },
  {
   "cell_type": "code",
   "execution_count": null,
   "id": "6b63b34d",
   "metadata": {
    "id": "WOIWJqQ0VC3P"
   },
   "outputs": [],
   "source": [
    "# download the model's default configuration file \n",
    "config_dir = WORK_DIR + '/conf/'\n",
    "os.makedirs(config_dir, exist_ok=True)\n",
    "if not os.path.exists(config_dir + \"qa_conf.yaml\"):\n",
    "    print('Downloading config file...')\n",
    "    wget.download(f'https://raw.githubusercontent.com/NVIDIA/NeMo/{BRANCH}/examples/nlp/question_answering/conf/qa_conf.yaml', config_dir)\n",
    "else:\n",
    "    print ('config file already exists')"
   ]
  },
  {
   "cell_type": "code",
   "execution_count": null,
   "id": "a4280307",
   "metadata": {
    "id": "cvD-gv-FVC3P",
    "scrolled": true
   },
   "outputs": [],
   "source": [
    "# this will print the entire default config of the model\n",
    "config_path = f'{WORK_DIR}/conf/qa_conf.yaml'\n",
    "print(config_path)\n",
    "config = OmegaConf.load(config_path)\n",
    "print(\"Default Config - \\n\")\n",
    "print(OmegaConf.to_yaml(config))"
   ]
  },
  {
   "cell_type": "markdown",
   "id": "80b19f30",
   "metadata": {
    "id": "E08e-ItPVC3P"
   },
   "source": [
    "# Training and testing models on SQuAD v2.0"
   ]
  },
  {
   "cell_type": "markdown",
   "id": "d3b2ce7d",
   "metadata": {
    "id": "xn022MsKVC3Q"
   },
   "source": [
    "## Dataset"
   ]
  },
  {
   "cell_type": "markdown",
   "id": "21cd31ab",
   "metadata": {
    "id": "c356CGL1VC3Q"
   },
   "source": [
    "For this example, we are going to download the [SQuAD](https://rajpurkar.github.io/SQuAD-explorer/) dataset to showcase how to do training and inference. There are two datasets, SQuAD1.0 and SQuAD2.0. SQuAD 1.1, the previous version of the SQuAD dataset, contains 100,000+ question-answer pairs on 500+ articles. SQuAD2.0 dataset combines the 100,000 questions in SQuAD1.1 with over 50,000 unanswerable questions written adversarially by crowdworkers to look similar to answerable ones. "
   ]
  },
  {
   "cell_type": "markdown",
   "id": "133dde4d",
   "metadata": {
    "id": "nprGkyvRVC3Q"
   },
   "source": [
    "We have prepared the data directory \"squad\" with the following four files for training and evaluation: \n",
    "\n",
    "```\n",
    "squad  \n",
    "│\n",
    "└───v1.1\n",
    "│   │ -  train-v1.1.json\n",
    "│   │ -  dev-v1.1.json\n",
    "│\n",
    "└───v2.0\n",
    "    │ -  train-v2.0.json\n",
    "    │ -  dev-v2.0.json\n",
    "```"
   ]
  },
  {
   "cell_type": "code",
   "execution_count": null,
   "id": "1e8486b2",
   "metadata": {
    "id": "GX0KWQXKVC3Q"
   },
   "outputs": [],
   "source": [
    "!ls -LR {DATA_DIR}/squad"
   ]
  },
  {
   "cell_type": "markdown",
   "id": "64cb2fd9",
   "metadata": {
    "id": "RFVcvseOVC3R"
   },
   "source": [
    "## Set dataset config values"
   ]
  },
  {
   "cell_type": "code",
   "execution_count": null,
   "id": "26cf79a4",
   "metadata": {
    "id": "Grb0EeRqVC3R"
   },
   "outputs": [],
   "source": [
    "# if True, model will load features from cache if file is present, or\n",
    "# create features and dump to cache file if not already present\n",
    "config.model.dataset.use_cache = False\n",
    "\n",
    "# indicates whether the dataset has unanswerable questions\n",
    "config.model.dataset.version_2_with_negative = True\n",
    "\n",
    "# indicates whether the dataset is of extractive nature or not\n",
    "# if True, context spans/chunks that do not contain answer are treated as unanswerable \n",
    "config.model.dataset.check_if_answer_in_context = True\n",
    "\n",
    "# set file paths for train, validation, and test datasets\n",
    "config.model.train_ds.file = f\"{DATA_DIR}/squad/v2.0/train-v2.0.json\"\n",
    "config.model.validation_ds.file = f\"{DATA_DIR}/squad/v2.0/dev-v2.0.json\"\n",
    "config.model.test_ds.file = f\"{DATA_DIR}/squad/v2.0/dev-v2.0.json\"\n",
    "\n",
    "# set batch sizes for train, validation, and test datasets\n",
    "config.model.train_ds.batch_size = 8\n",
    "config.model.validation_ds.batch_size = 8\n",
    "config.model.test_ds.batch_size = 8\n",
    "\n",
    "# set number of samples to be used from dataset. setting to -1 uses entire dataset\n",
    "config.model.train_ds.num_samples = 5000\n",
    "config.model.validation_ds.num_samples = 1000\n",
    "config.model.test_ds.num_samples = 100"
   ]
  },
  {
   "cell_type": "markdown",
   "id": "2a1944d0",
   "metadata": {
    "id": "rFWF41VwVC3R"
   },
   "source": [
    "## Set trainer config values"
   ]
  },
  {
   "cell_type": "code",
   "execution_count": null,
   "id": "f106d0d4",
   "metadata": {
    "id": "42yif-GIVC3R"
   },
   "outputs": [],
   "source": [
    "config.trainer.max_epochs = 1\n",
    "config.trainer.max_steps = -1 # takes precedence over max_epochs\n",
    "config.trainer.precision = 16\n",
    "config.trainer.devices = [0] # 0 for CPU, or list of the GPUs to use [0] this tutorial does not support multiple GPUs. If needed please use NeMo/examples/nlp/question_answering/question_answering.py\n",
    "config.trainer.accelerator = \"gpu\"\n",
    "config.trainer.strategy=\"auto\""
   ]
  },
  {
   "cell_type": "markdown",
   "id": "f1970aa0",
   "metadata": {
    "id": "EDQzMBlbVC3R"
   },
   "source": [
    "## Set experiment manager config values"
   ]
  },
  {
   "cell_type": "code",
   "execution_count": null,
   "id": "5d5be1df",
   "metadata": {
    "id": "pxY4rnJBVC3R"
   },
   "outputs": [],
   "source": [
    "# config.exp_manager.exp_dir = WORK_DIR\n",
    "# config.exp_manager.name = \"QA-SQuAD2\"\n",
    "# config.exp_manager.create_wandb_logger=False"
   ]
  },
  {
   "cell_type": "markdown",
   "id": "c1e09e85",
   "metadata": {
    "id": "zyh0SNiyVC3S"
   },
   "source": [
    "## S2S BART model for SQuAD v2.0"
   ]
  },
  {
   "cell_type": "markdown",
   "id": "032423d4",
   "metadata": {
    "id": "Sy9IYgVYVC3S"
   },
   "source": [
    "### Set model config values"
   ]
  },
  {
   "cell_type": "code",
   "execution_count": null,
   "id": "e5ba90f7",
   "metadata": {
    "id": "PKNmHKV5VC3S"
   },
   "outputs": [],
   "source": [
    "# set language model and tokenizer to be used\n",
    "# tokenizer is derived from model if a tokenizer name is not provided\n",
    "config.model.language_model.pretrained_model_name = \"facebook/bart-base\"\n",
    "config.model.tokenizer.tokenizer_name = \"facebook/bart-base\"\n",
    "\n",
    "# path where model will be saved\n",
    "config.model.nemo_path = f\"{WORK_DIR}/checkpoints/bart_squad_v2_0.nemo\"\n",
    "\n",
    "config.exp_manager.create_checkpoint_callback = True\n",
    "\n",
    "config.model.optim.lr = 5e-5\n",
    "\n",
    "#remove vocab_file from gpt model\n",
    "config.model.tokenizer.vocab_file = None"
   ]
  },
  {
   "cell_type": "markdown",
   "id": "4f587f28",
   "metadata": {
    "id": "S_0glS4yVC3S"
   },
   "source": [
    "### Create trainer and initialize model"
   ]
  },
  {
   "cell_type": "code",
   "execution_count": null,
   "id": "e1dfed2f",
   "metadata": {
    "id": "8jWyHY1oVC3S",
    "scrolled": true
   },
   "outputs": [],
   "source": [
    "# uncomment below line and run if you get an error while initializing tokenizer on Colab (reference: https://github.com/huggingface/transformers/issues/8690)\n",
    "# !rm -r /root/.cache/huggingface/\n",
    "\n",
    "trainer = pl.Trainer(**config.trainer)\n",
    "model = S2SQAModel(config.model, trainer=trainer)"
   ]
  },
  {
   "cell_type": "markdown",
   "id": "040660ab",
   "metadata": {
    "id": "xg-j39b4VC3S"
   },
   "source": [
    "### Train, test, and save the model"
   ]
  },
  {
   "cell_type": "code",
   "execution_count": null,
   "id": "4a1a3f48",
   "metadata": {
    "id": "ocsf0EBDVC3S",
    "scrolled": true
   },
   "outputs": [],
   "source": [
    "trainer.fit(model)\n",
    "trainer.test(model)\n",
    "\n",
    "model.save_to(config.model.nemo_path)"
   ]
  },
  {
   "cell_type": "markdown",
   "id": "8dcb9482",
   "metadata": {
    "id": "Vs3pl0VMVC3S"
   },
   "source": [
    "### Load the saved model and run inference"
   ]
  },
  {
   "cell_type": "code",
   "execution_count": null,
   "id": "a7764759",
   "metadata": {
    "id": "NoW6_GO_VC3S",
    "scrolled": true
   },
   "outputs": [],
   "source": [
    "model = S2SQAModel.restore_from(config.model.nemo_path)\n",
    "\n",
    "eval_device = [config.trainer.devices[0]] if isinstance(config.trainer.devices, list) else 1\n",
    "model.trainer = pl.Trainer(\n",
    "    devices=eval_device,\n",
    "    accelerator=config.trainer.accelerator,\n",
    "    precision=16,\n",
    "    logger=False,\n",
    ")\n",
    "\n",
    "all_preds, all_nbest = model.inference(\n",
    "    config.model.test_ds.file,\n",
    "#     output_prediction_file=output_prediction_file,\n",
    "#     output_nbest_file=output_nbest_file,\n",
    "    num_samples=10, # setting to -1 will use all samples for inference\n",
    ")\n",
    "\n",
    "for question_id in all_preds:\n",
    "    print(all_preds[question_id])"
   ]
  },
  {
   "cell_type": "markdown",
   "id": "4dcde4b6",
   "metadata": {
    "id": "a7-iInbPVC3S"
   },
   "source": [
    "## GPT2 model for SQuAD v2.0"
   ]
  },
  {
   "cell_type": "markdown",
   "id": "2fcf79ea",
   "metadata": {
    "id": "VaIC0l2aVC3S"
   },
   "source": [
    "### Exercise # 1 - Set model config values\n",
    "\n",
    "* Modify the `<FIXME>` to use the `gpt2` pre-trained model and tokenizer. "
   ]
  },
  {
   "cell_type": "code",
   "execution_count": null,
   "id": "36ee2e4d",
   "metadata": {
    "id": "5j6SVk6fVC3S"
   },
   "outputs": [],
   "source": [
    "# set language model and tokenizer to be used\n",
    "# tokenizer is derived from model if a tokenizer name is not provided\n",
    "config.model.language_model.pretrained_model_name = <<<<FIXME>>>>\n",
    "config.model.tokenizer.tokenizer_name = <<<<FIXME>>>>\n",
    "\n",
    "# path where model will be saved\n",
    "config.model.nemo_path = f\"{WORK_DIR}/checkpoints/gpt2_squad_v2_0.nemo\"\n",
    "\n",
    "config.exp_manager.create_checkpoint_callback = True\n",
    "\n",
    "config.model.optim.lr = 1e-4"
   ]
  },
  {
   "cell_type": "raw",
   "id": "d2378d07",
   "metadata": {
    "id": "5j6SVk6fVC3S",
    "jupyter": {
     "source_hidden": true
    }
   },
   "source": [
    "# set language model and tokenizer to be used\n",
    "# tokenizer is derived from model if a tokenizer name is not provided\n",
    "config.model.language_model.pretrained_model_name = \"gpt2\"\n",
    "config.model.tokenizer.tokenizer_name = \"gpt2\"\n",
    "\n",
    "# path where model will be saved\n",
    "config.model.nemo_path = f\"{WORK_DIR}/checkpoints/gpt2_squad_v2_0.nemo\"\n",
    "\n",
    "config.exp_manager.create_checkpoint_callback = True\n",
    "\n",
    "config.model.optim.lr = 1e-4"
   ]
  },
  {
   "cell_type": "markdown",
   "id": "e322d33a",
   "metadata": {},
   "source": [
    "click ... to show solution. "
   ]
  },
  {
   "cell_type": "markdown",
   "id": "833ab1a2",
   "metadata": {
    "id": "rWhhEuvzVC3S"
   },
   "source": [
    "### Create trainer and initialize model"
   ]
  },
  {
   "cell_type": "code",
   "execution_count": null,
   "id": "7f128f70",
   "metadata": {
    "id": "vBtP3ukDVC3S",
    "scrolled": true
   },
   "outputs": [],
   "source": [
    "trainer = pl.Trainer(**config.trainer)\n",
    "model = GPTQAModel(config.model, trainer=trainer)"
   ]
  },
  {
   "cell_type": "markdown",
   "id": "32c0d6cf",
   "metadata": {
    "id": "EApFrJh8VC3T"
   },
   "source": [
    "### Exercise # 2 - Train, test, and save the model\n",
    "\n",
    "* Modify the `<FIXME>` to train, test, and save the model. "
   ]
  },
  {
   "cell_type": "code",
   "execution_count": null,
   "id": "827e1c97",
   "metadata": {
    "id": "zYo2JDdOVC3T",
    "scrolled": true
   },
   "outputs": [],
   "source": [
    "<<<<FIXME>>>>.fit(<<<<FIXME>>>>)\n",
    "<<<<FIXME>>>>.test(<<<<FIXME>>>>)\n",
    "\n",
    "<<<<FIXME>>>>.save_to(config.model.nemo_path)"
   ]
  },
  {
   "cell_type": "raw",
   "id": "8afc10b4",
   "metadata": {
    "id": "zYo2JDdOVC3T",
    "jupyter": {
     "source_hidden": true
    }
   },
   "source": [
    "trainer.fit(model)\n",
    "trainer.test(model)\n",
    "\n",
    "model.save_to(config.model.nemo_path)"
   ]
  },
  {
   "cell_type": "markdown",
   "id": "6fb89714",
   "metadata": {},
   "source": [
    "click ... to show solution. "
   ]
  },
  {
   "cell_type": "markdown",
   "id": "5ded1494",
   "metadata": {
    "id": "6aNEt06fVC3T"
   },
   "source": [
    "### Exercise # 3 - Load the saved model and run inference\n",
    "\n",
    "* Modify the `<FIXME>` to run inference from a saved model. "
   ]
  },
  {
   "cell_type": "code",
   "execution_count": null,
   "id": "1795e3f2",
   "metadata": {
    "id": "ioLT4DVbVC3T",
    "scrolled": true
   },
   "outputs": [],
   "source": [
    "model = GPTQAModel.restore_from(config.model.nemo_path)\n",
    "\n",
    "eval_device = [config.trainer.devices[0]] if isinstance(config.trainer.devices, list) else 1\n",
    "model.trainer = pl.Trainer(\n",
    "    devices=eval_device,\n",
    "    accelerator=config.trainer.accelerator,\n",
    "    precision=16,\n",
    "    logger=False,\n",
    ")\n",
    "\n",
    "all_preds, all_nbest = model.<<<<FIXME>>>>(\n",
    "    config.model.test_ds.file,\n",
    "    num_samples=10, # setting to -1 will use all samples for inference\n",
    ")\n",
    "\n",
    "for question_id in all_preds:\n",
    "    print(all_preds[question_id])"
   ]
  },
  {
   "cell_type": "raw",
   "id": "1f8adeac",
   "metadata": {
    "id": "ioLT4DVbVC3T",
    "jupyter": {
     "source_hidden": true
    }
   },
   "source": [
    "model = GPTQAModel.restore_from(config.model.nemo_path)\n",
    "\n",
    "eval_device = [config.trainer.devices[0]] if isinstance(config.trainer.devices, list) else 1\n",
    "model.trainer = pl.Trainer(\n",
    "    devices=eval_device,\n",
    "    accelerator=config.trainer.accelerator,\n",
    "    precision=16,\n",
    "    logger=False,\n",
    ")\n",
    "\n",
    "all_preds, all_nbest = model.inference(\n",
    "    config.model.test_ds.file,\n",
    "    num_samples=10, # setting to -1 will use all samples for inference\n",
    ")\n",
    "\n",
    "for question_id in all_preds:\n",
    "    print(all_preds[question_id])"
   ]
  },
  {
   "cell_type": "markdown",
   "id": "7aba1084",
   "metadata": {},
   "source": [
    "click ... to show solution. "
   ]
  },
  {
   "cell_type": "markdown",
   "id": "f4987620",
   "metadata": {},
   "source": [
    "![DLI Header](images/DLI_Header.png)"
   ]
  }
 ],
 "metadata": {
  "kernelspec": {
   "display_name": "Python 3 (ipykernel)",
   "language": "python",
   "name": "python3"
  },
  "language_info": {
   "codemirror_mode": {
    "name": "ipython",
    "version": 3
   },
   "file_extension": ".py",
   "mimetype": "text/x-python",
   "name": "python",
   "nbconvert_exporter": "python",
   "pygments_lexer": "ipython3",
   "version": "3.10.6"
  }
 },
 "nbformat": 4,
 "nbformat_minor": 5
}
