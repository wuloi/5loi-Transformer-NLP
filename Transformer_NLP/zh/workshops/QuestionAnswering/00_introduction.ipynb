{
 "cells": [
  {
   "cell_type": "markdown",
   "id": "963b5ebb",
   "metadata": {},
   "source": [
    "<center><a href=\"https://5loi.com/about_loi\"> <img src=\"images/DLI_Header.png\" alt=\"Header\" style=\"width: 400px;\"/> </a></center>"
   ]
  },
  {
   "cell_type": "markdown",
   "id": "adc1ad31",
   "metadata": {},
   "source": [
    "# 问答系统 #\n",
    "> Question Answering"
   ]
  },
  {
   "cell_type": "markdown",
   "id": "109eb5db",
   "metadata": {},
   "source": [
    "## 00 - 简介 ##\n",
    "> Introduction"
   ]
  },
  {
   "cell_type": "markdown",
   "id": "2b434110",
   "metadata": {},
   "source": [
    "本课程将演示如何训练、评估和测试三种类型的问答模型：\n",
    "\n",
    "1. 用于抽取式问答的 BERT 类模型\n",
    "2. 用于生成式问答的序列到序列 (S2S) 模型（例如 T5/BART 类）\n",
    "3. 用于生成式问答的 GPT 类模型\n",
    "\n",
    "--- \n",
    "\n",
    "1. BERT-like models for Extractive Question-Answering\n",
    "2. Sequence-to-Sequence (S2S) models for Generative Question-Answering (ex. T5/BART-like)\n",
    "3. GPT-like models for Generative Question-Answering"
   ]
  },
  {
   "cell_type": "markdown",
   "id": "62bc906b",
   "metadata": {},
   "source": [
    "### 课程结构 ###\n",
    "> Course Structure"
   ]
  },
  {
   "cell_type": "markdown",
   "id": "d8ed2eff",
   "metadata": {},
   "source": [
    "本课程包含几个简短的交互式笔记本，用于演示相关技术。\n",
    "\n",
    "1. **简介**: 本笔记本。\n",
    "2. **[抽取式问答](./01_extractive_question_answering.ipynb)**: 在本笔记本中，您将学习如何使用 BERT 问答模型。\n",
    "3. **[生成式问答](./02_generative_question_answering.ipynb)**: 在本笔记本中，您将学习如何使用序列到序列模型和 GPT 类模型。\n"
   ]
  },
  {
   "cell_type": "markdown",
   "id": "cde20bdb",
   "metadata": {},
   "source": [
    "### JupyterLab ###\n",
    "\n",
    "在本动手实验中，我们使用 [JupyterLab](https://jupyterlab.readthedocs.io/en/stable/) 来管理我们的环境。[JupyterLab 界面](https://jupyterlab.readthedocs.io/en/stable/user/interface.html) 是一个仪表板，提供对交互式 iPython 笔记本的访问，以及我们环境的文件夹结构和到 Ubuntu 操作系统的终端窗口。您将看到的第一个视图包括顶部的**菜单栏**、**左侧侧边栏**中的**文件浏览器**和最初打开“启动器”页面的**主要工作区**。\n",
    "\n",
    "<img src=\"images/jl_launcher.png\">\n",
    "\n",
    "文件浏览器可以像任何其他文件浏览器一样进行导航。双击任何项目将打开一个包含其内容的新标签页。\n",
    "\n",
    "主要工作区包括打开文件的选项卡视图，可以根据需要关闭、移动和编辑这些文件。\n",
    "\n",
    "笔记本（包括此笔记本）由一系列内容和代码**单元格**组成。要执行代码单元格中的代码，请按 `Shift+Enter` 或菜单栏上方的“运行”按钮，同时突出显示单元格。有时，内容单元格会切换到编辑模式。按 `Shift+Enter` 将将其切换回可读形式。\n",
    "\n",
    "尝试执行下面单元格中的简单打印语句。"
   ]
  },
  {
   "cell_type": "code",
   "execution_count": null,
   "id": "1776d584",
   "metadata": {},
   "outputs": [],
   "source": [
    "# Highlight this cell and click [Shift+Enter] to execute\n",
    "print('This is just a simple print statement. ')"
   ]
  },
  {
   "cell_type": "markdown",
   "id": "4662536a",
   "metadata": {},
   "source": [
    "**干得好！** 准备好后，让我们转到 [下一个笔记本](./01_extractive_question_answering.ipynb)。"
   ]
  },
  {
   "cell_type": "markdown",
   "id": "f904f190",
   "metadata": {},
   "source": [
    "<center><a href=\"https://5loi.com/about_loi\"> <img src=\"images/DLI_Header.png\" alt=\"Header\" style=\"width: 400px;\"/> </a></center>"
   ]
  }
 ],
 "metadata": {
  "kernelspec": {
   "display_name": "Python 3 (ipykernel)",
   "language": "python",
   "name": "python3"
  },
  "language_info": {
   "codemirror_mode": {
    "name": "ipython",
    "version": 3
   },
   "file_extension": ".py",
   "mimetype": "text/x-python",
   "name": "python",
   "nbconvert_exporter": "python",
   "pygments_lexer": "ipython3",
   "version": "3.10.6"
  }
 },
 "nbformat": 4,
 "nbformat_minor": 5
}
