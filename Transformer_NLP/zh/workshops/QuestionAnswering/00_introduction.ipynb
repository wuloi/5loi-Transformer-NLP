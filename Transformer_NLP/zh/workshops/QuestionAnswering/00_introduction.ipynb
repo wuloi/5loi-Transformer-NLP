{
 "cells": [
  {
   "cell_type": "markdown",
   "id": "963b5ebb",
   "metadata": {},
   "source": [
    "![DLI Header](images/DLI_Header.png)"
   ]
  },
  {
   "cell_type": "markdown",
   "id": "adc1ad31",
   "metadata": {},
   "source": [
    "# Question Answering #"
   ]
  },
  {
   "cell_type": "markdown",
   "id": "109eb5db",
   "metadata": {},
   "source": [
    "## 00 - Introduction ##"
   ]
  },
  {
   "cell_type": "markdown",
   "id": "2b434110",
   "metadata": {},
   "source": [
    "This course will demonstrate how to train, evaluate, and test three types of models for Question-Answering -\n",
    "1. BERT-like models for Extractive Question-Answering\n",
    "2. Sequence-to-Sequence (S2S) models for Generative Question-Answering (ex. T5/BART-like)\n",
    "3. GPT-like models for Generative Question-Answering"
   ]
  },
  {
   "cell_type": "markdown",
   "id": "62bc906b",
   "metadata": {},
   "source": [
    "### Course Structure ###"
   ]
  },
  {
   "cell_type": "markdown",
   "id": "d8ed2eff",
   "metadata": {},
   "source": [
    "This course consists of several short interactive notebooks which demonstrate relevant techniques.\n",
    "\n",
    "1. **Introduction**: This notebook.\n",
    "2. **extraction question answering**: In this notebook, you will learn to use a BERT QA model. \n",
    "3. **generative question answering**: In this notebook, you will learn to use a Sequence-to-Sequence Model and GPT-like Models. "
   ]
  },
  {
   "cell_type": "markdown",
   "id": "cde20bdb",
   "metadata": {},
   "source": [
    "### JupyterLab ###\n",
    "\n",
    "For this hands-on lab, we use [JupyterLab](https://jupyterlab.readthedocs.io/en/stable/) to manage our environment.  The [JupyterLab Interface](https://jupyterlab.readthedocs.io/en/stable/user/interface.html) is a dashboard that provides access to interactive iPython notebooks, as well as the folder structure of our environment and a terminal window into the Ubuntu operating system. The first view you'll see includes a **menu bar** at the top, a **file browser** in the **left sidebar**, and a **main work area** that is initially open to the \"Launcher\" page. \n",
    "\n",
    "<img src=\"images/jl_launcher.png\">\n",
    "\n",
    "The file browser can be navigated just like any other file explorer. A double click on any of the items will open a new tab with its content.\n",
    "\n",
    "The main work area includes tabbed views of open files that can be closed, moved, and edited as needed. \n",
    "\n",
    "The notebooks, including this one, consist of a series of content and code **cells**.  To execute code in a code cell, press `Shift+Enter` or the \"Run\" button in the menu bar above, while a cell is highlighted. Sometimes, a content cell will get switched to editing mode. Pressing `Shift+Enter` will switch it back to a readable form.\n",
    "\n",
    "Try executing the simple print statement in the cell below."
   ]
  },
  {
   "cell_type": "code",
   "execution_count": null,
   "id": "1776d584",
   "metadata": {},
   "outputs": [],
   "source": [
    "# Highlight this cell and click [Shift+Enter] to execute\n",
    "print('This is just a simple print statement. ')"
   ]
  },
  {
   "cell_type": "markdown",
   "id": "4662536a",
   "metadata": {},
   "source": [
    "**Well Done!** When you're ready, let's move to the [next notebook](./01_named_entity_recognition_with_pre-trained_model.ipynb)."
   ]
  },
  {
   "cell_type": "markdown",
   "id": "f904f190",
   "metadata": {},
   "source": [
    "![DLI Header](images/DLI_Header.png)"
   ]
  }
 ],
 "metadata": {
  "kernelspec": {
   "display_name": "Python 3 (ipykernel)",
   "language": "python",
   "name": "python3"
  },
  "language_info": {
   "codemirror_mode": {
    "name": "ipython",
    "version": 3
   },
   "file_extension": ".py",
   "mimetype": "text/x-python",
   "name": "python",
   "nbconvert_exporter": "python",
   "pygments_lexer": "ipython3",
   "version": "3.10.6"
  }
 },
 "nbformat": 4,
 "nbformat_minor": 5
}
