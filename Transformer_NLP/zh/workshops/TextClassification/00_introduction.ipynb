{
 "cells": [
  {
   "cell_type": "markdown",
   "id": "b2a97822",
   "metadata": {},
   "source": [
    "<center><a href=\"https://5loi.com/about_loi\"> <img src=\"images/DLI_Header.png\" alt=\"Header\" style=\"width: 400px;\"/> </a></center>"
   ]
  },
  {
   "cell_type": "markdown",
   "id": "07afae39",
   "metadata": {},
   "source": [
    "## 文本分类\n",
    "> Text Classification"
   ]
  },
  {
   "cell_type": "markdown",
   "id": "39d2b170",
   "metadata": {},
   "source": [
    "### 00 - 简介\n",
    "> Introduction"
   ]
  },
  {
   "cell_type": "markdown",
   "id": "c47db7a2",
   "metadata": {},
   "source": [
    "欢迎参加课程！\n",
    "\n",
    "在自然语言处理中，文本分类是指为一段文本赋予标签的过程。它可以用于准确高效地检测和分类关键信息。在本课程中，您将学习通过微调预训练模型来执行文本分类。在完成本课程后，您将能够：\n",
    "\n",
    "* 描述文本分类在自然语言处理中的应用\n",
    "* 使用预训练语言模型执行文本分类\n",
    "* 为特定行业开发自定义文本分类模型\n",
    "\n",
    "---\n",
    "\n",
    "* Describe how text classification is used in natural language processing\n",
    "* Use pre-trained language models to perform text classification\n",
    "* Develop a custom text classification model for specific industries"
   ]
  },
  {
   "cell_type": "markdown",
   "id": "de573b12",
   "metadata": {},
   "source": [
    "### 课程结构 ###\n",
    "> Course Structure"
   ]
  },
  {
   "cell_type": "markdown",
   "id": "2b457bbb",
   "metadata": {},
   "source": [
    "本课程包含几个简短的交互式笔记本，用于演示相关技术。\n",
    "\n",
    "1. **简介**: 本笔记本。\n",
    "2. **[使用预训练模型进行情感分析](./01_sentiment_analysis.ipynb)**: 在本笔记本中，您将学习如何使用预训练的文本分类模型。\n",
    "3. **[意图和槽位分类模型](./02_intent_and_slot_classification.ipynb)**: 在本笔记本中，您将学习如何微调预训练语言模型以执行意图和槽位分类。\n"
   ]
  },
  {
   "cell_type": "markdown",
   "id": "ac46356b",
   "metadata": {},
   "source": [
    "### JupyterLab ###\n",
    "> JupyterLab\n",
    "\n",
    "在本动手实验中，我们使用[JupyterLab](https://jupyterlab.readthedocs.io/en/stable/)来管理我们的环境。[JupyterLab 界面](https://jupyterlab.readthedocs.io/en/stable/user/interface.html)是一个仪表板，提供对交互式 iPython 笔记本的访问，以及我们环境的文件夹结构和到 Ubuntu 操作系统的终端窗口。您将看到的第一个视图包括顶部的**菜单栏**、**左侧侧边栏**中的**文件浏览器**和最初打开“启动器”页面的**主要工作区**。\n",
    "\n",
    "<img src=\"images/jl_launcher.png\">\n",
    "\n",
    "文件浏览器可以像任何其他文件浏览器一样进行导航。双击任何项目将打开一个包含其内容的新标签页。\n",
    "\n",
    "主要工作区包括打开文件的选项卡视图，可以根据需要关闭、移动和编辑这些文件。\n",
    "\n",
    "笔记本（包括此笔记本）由一系列内容和代码**单元格**组成。要执行代码单元格中的代码，请按 `Shift+Enter` 或菜单栏上方的“运行”按钮，同时突出显示单元格。有时，内容单元格会切换到编辑模式。按 `Shift+Enter` 将将其切换回可读形式。\n",
    "\n",
    "尝试执行下面单元格中的简单打印语句。\n"
   ]
  },
  {
   "cell_type": "code",
   "execution_count": null,
   "id": "7c398110",
   "metadata": {},
   "outputs": [],
   "source": [
    "# Highlight this cell and click [Shift+Enter] to execute\n",
    "print('This is just a simple print statement. ')"
   ]
  },
  {
   "cell_type": "markdown",
   "id": "3a2a134a",
   "metadata": {},
   "source": [
    "**干得好！** 准备好后，让我们转到[下一个笔记本](./01_sentiment_analysis.ipynb)。\n"
   ]
  },
  {
   "cell_type": "markdown",
   "id": "c1a4ab67",
   "metadata": {},
   "source": [
    "<center><a href=\"https://5loi.com/about_loi\"> <img src=\"images/DLI_Header.png\" alt=\"Header\" style=\"width: 400px;\"/> </a></center>"
   ]
  }
 ],
 "metadata": {
  "kernelspec": {
   "display_name": "Python 3 (ipykernel)",
   "language": "python",
   "name": "python3"
  },
  "language_info": {
   "codemirror_mode": {
    "name": "ipython",
    "version": 3
   },
   "file_extension": ".py",
   "mimetype": "text/x-python",
   "name": "python",
   "nbconvert_exporter": "python",
   "pygments_lexer": "ipython3",
   "version": "3.10.6"
  }
 },
 "nbformat": 4,
 "nbformat_minor": 5
}
