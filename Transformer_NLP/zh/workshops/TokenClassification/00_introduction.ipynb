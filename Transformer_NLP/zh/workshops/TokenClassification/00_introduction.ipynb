{
 "cells": [
  {
   "cell_type": "markdown",
   "id": "a656c0a3",
   "metadata": {},
   "source": [
    "<center><a href=\"https://5loi.com/about_loi\"> <img src=\"images/DLI_Header.png\" alt=\"Header\" style=\"width: 400px;\"/> </a></center>"
   ]
  },
  {
   "cell_type": "markdown",
   "id": "100eb441",
   "metadata": {},
   "source": [
    "# 使用大型语言模型进行令牌分类 #\n",
    ">Token Classification with Large Language Models"
   ]
  },
  {
   "cell_type": "markdown",
   "id": "3f13b007",
   "metadata": {},
   "source": [
    "## 00 - 简介 ##\n",
    ">Introduction"
   ]
  },
  {
   "cell_type": "markdown",
   "id": "af17f63c",
   "metadata": {},
   "source": [
    "欢迎参加本课程！\n",
    "\n",
    "在自然语言处理中，令牌分类为文本片段中的令牌分配标签。它可以用于准确有效地检测和分类关键信息。在本课程中，您将学习使用预训练模型以及开发自定义模型来执行令牌分类。在本课程结束时，您将能够：\n",
    "\n",
    "* 描述令牌分类在自然语言处理中的应用\n",
    "* 使用预训练语言模型执行令牌分类\n",
    "* 为特定行业开发自定义令牌分类模型\n",
    "\n",
    "---\n",
    "\n",
    "* Describe how token classification is used in natural language processing\n",
    "* Use pre-trained language models to perform token classification\n",
    "* Develop a custom token classification model for specific industries"
   ]
  },
  {
   "cell_type": "markdown",
   "id": "22825f02",
   "metadata": {},
   "source": [
    "### 课程结构 ###\n",
    ">Course Structure"
   ]
  },
  {
   "cell_type": "markdown",
   "id": "b8a77b46",
   "metadata": {},
   "source": [
    "本课程包含多个简短的交互式笔记本，演示相关技术。\n",
    "\n",
    "1. **简介** : 本笔记本。\n",
    "2. **[使用预训练模型进行命名实体识别](./01_named_entity_recognition_with_pre-trained_model.ipynb)** : 在此笔记本中，您将学习如何使用预训练的令牌分类模型。\n",
    "3. **[特定领域的令牌分类模型](./02_domain-specific_token_classification_model.ipynb)** : 在此笔记本中，您将学习如何微调预训练的语言模型以执行特定领域的令牌分类。"
   ]
  },
  {
   "cell_type": "markdown",
   "id": "abad83d8",
   "metadata": {},
   "source": [
    "### JupyterLab ###\n",
    "\n",
    "在本动手实验中，我们使用 [JupyterLab](https://jupyterlab.readthedocs.io/en/stable/) 来管理我们的环境。[JupyterLab 界面](https://jupyterlab.readthedocs.io/en/stable/user/interface.html) 是一个仪表板，提供对交互式 iPython 笔记本的访问，以及我们环境的文件夹结构和到 Ubuntu 操作系统的终端窗口。您将看到的第一个视图包括顶部的**菜单栏** 、**左侧边栏中的文件浏览器** 以及最初打开到“启动器”页面的**主工作区** 。\n",
    "\n",
    "\n",
    "<img src=\"images/jl_launcher.png\">\n",
    "\n",
    "\n",
    "文件浏览器可以像任何其他文件资源管理器一样进行导航。双击任何项目将打开一个包含其内容的新选项卡。\n",
    "\n",
    "\n",
    "主工作区包含打开文件的选项卡视图，可以根据需要关闭、移动和编辑这些文件。\n",
    "\n",
    "\n",
    "笔记本（包括此笔记本）由一系列内容和代码**单元** 组成。要执行代码单元中的代码，请按 `Shift+Enter` 或菜单栏上方的“运行”按钮，同时突出显示一个单元格。有时，内容单元格将切换到编辑模式。按下 `Shift+Enter` 将将其切换回可读形式。\n",
    "\n",
    "\n",
    "尝试执行下面单元格中的简单打印语句。"
   ]
  },
  {
   "cell_type": "code",
   "execution_count": 1,
   "id": "12ed1a42",
   "metadata": {},
   "outputs": [
    {
     "name": "stdout",
     "output_type": "stream",
     "text": [
      "这是一个简单的打印语句。\n"
     ]
    }
   ],
   "source": [
    "# Highlight this cell and click [Shift+Enter] to execute\n",
    "print('这是一个简单的打印语句。') # 打印一条简单的文本信息\n"
   ]
  },
  {
   "cell_type": "markdown",
   "id": "be912029",
   "metadata": {},
   "source": [
    "**做得好！** 准备好后，让我们转到下一个[next notebook](./01_named_entity_recognition_with_pre-trained_model.ipynb)。"
   ]
  },
  {
   "cell_type": "markdown",
   "id": "f278f0b8",
   "metadata": {},
   "source": [
    "<center><a href=\"https://5loi.com/about_loi\"> <img src=\"images/DLI_Header.png\" alt=\"Header\" style=\"width: 400px;\"/> </a></center>"
   ]
  }
 ],
 "metadata": {
  "kernelspec": {
   "display_name": "Python 3 (ipykernel)",
   "language": "python",
   "name": "python3"
  },
  "language_info": {
   "codemirror_mode": {
    "name": "ipython",
    "version": 3
   },
   "file_extension": ".py",
   "mimetype": "text/x-python",
   "name": "python",
   "nbconvert_exporter": "python",
   "pygments_lexer": "ipython3",
   "version": "3.10.6"
  }
 },
 "nbformat": 4,
 "nbformat_minor": 5
}
