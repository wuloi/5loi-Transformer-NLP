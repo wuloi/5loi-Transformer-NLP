{
 "cells": [
  {
   "cell_type": "markdown",
   "id": "91df63c6",
   "metadata": {},
   "source": [
    "<center><a href=\"https://5loi.com/about_loi\"> <img src=\"images/DLI_Header.png\" alt=\"Header\" style=\"width: 400px;\"/> </a></center>"
   ]
  },
  {
   "cell_type": "markdown",
   "id": "fcf01646",
   "metadata": {},
   "source": [
    "## 使用大型语言模型进行标记分类\n",
    "> Token Classification with Large Language Models"
   ]
  },
  {
   "cell_type": "markdown",
   "id": "5fe3cc7a",
   "metadata": {},
   "source": [
    "### 02 - 领域特定标记分类模型\n",
    "> Domain-Specific Token Classification Model\n",
    "\n",
    "在本笔记本中，您将学习如何微调预训练语言模型以对特定领域执行标记分类。具体来说，您将开发一个命名实体识别（NER）模型，用于在医学疾病摘要中查找疾病名称。\n",
    "\n",
    "**目录**<br>\n",
    "本笔记本涵盖以下部分：\n",
    "* 项目概述\n",
    "* 数据集\n",
    "    * 下载数据\n",
    "    * 预处理数据\n",
    "* 为自定义领域微调预训练模型\n",
    "    * 配置文件\n",
    "    * 下载领域特定预训练模型\n",
    "    * 练习 # 1 - 实例化模型和训练器\n",
    "    * 练习 # 2 - 模型训练\n",
    "    * 模型评估\n",
    "\n",
    "* Project Overview\n",
    "* Dataset\n",
    "    * Download Data\n",
    "    * Preprocess Data\n",
    "* Fine-Tune a Pre-Trained Model for Custom Domain\n",
    "    * Configuration File\n",
    "    * Download Domain-Specific Pre-Trained Model\n",
    "    * Exercise # 1 - Instantiate Model and Trainer\n",
    "    * Exercise # 2 - Model Training\n",
    "    * Model Evaluation"
   ]
  },
  {
   "cell_type": "markdown",
   "id": "6b9f0c03",
   "metadata": {},
   "source": [
    "## 项目概述 ##\n",
    "> Project Overview\n",
    "\n",
    "<img src='images/workflow.png' width=1080>"
   ]
  },
  {
   "cell_type": "markdown",
   "id": "1bed9222",
   "metadata": {},
   "source": [
    "## 数据集 ##\n",
    "> Dataset\n",
    "\n",
    "对于本笔记本，我们将使用[NCBI-disease](https://www.ncbi.nlm.nih.gov/CBBresearch/Dogan/DISEASE/)语料库，它是一组由 14 位注释者注释的 793 篇 PubMed 摘要。注释采用 HTML 样式标签的形式插入摘要文本中，并使用清晰定义的规则。注释识别命名疾病，并可用于微调语言模型，以识别未来摘要中的疾病提及，*无论这些疾病是否属于原始训练集*。\n"
   ]
  },
  {
   "cell_type": "markdown",
   "id": "71b53cc0",
   "metadata": {},
   "source": [
    "### 下载数据 ###\n",
    "> Download Data"
   ]
  },
  {
   "cell_type": "code",
   "execution_count": 1,
   "id": "da9855d5",
   "metadata": {
    "scrolled": true
   },
   "outputs": [],
   "source": [
    "import os  # 导入操作系统的库\n",
    "import wget  # 导入 wget 库，用于下载文件\n",
    "\n",
    "# 设置数据路径\n",
    "DATA_DIR = \"data/NCBI\"  # 定义数据文件夹的路径\n",
    "os.makedirs(DATA_DIR, exist_ok=True)  # 创建数据文件夹，如果文件夹已存在则不进行操作\n"
   ]
  },
  {
   "cell_type": "markdown",
   "id": "df385f78",
   "metadata": {},
   "source": [
    "以下是语料库中带注释的摘要示例："
   ]
  },
  {
   "cell_type": "code",
   "execution_count": 2,
   "id": "be91b711",
   "metadata": {
    "scrolled": true
   },
   "outputs": [
    {
     "name": "stdout",
     "output_type": "stream",
     "text": [
      "9288106\tClustering of missense mutations in the <category=\"Modifier\">ataxia-telangiectasia</category> gene in a <category=\"SpecificDisease\">sporadic T-cell leukaemia</category>.\t<category=\"SpecificDisease\">Ataxia-telangiectasia</category> ( <category=\"SpecificDisease\">A-T</category> ) is a <category=\"DiseaseClass\">recessive multi-system disorder</category> caused by mutations in the ATM gene at 11q22-q23 ( ref . 3 ) . The risk of <category=\"DiseaseClass\">cancer</category> , especially <category=\"DiseaseClass\">lymphoid neoplasias</category> , is substantially elevated in <category=\"Modifier\">A-T</category> patients and has long been associated with chromosomal instability . By analysing <category=\"Modifier\">tumour</category> DNA from patients with <category=\"SpecificDisease\">sporadic T-cell prolymphocytic leukaemia</category> ( <category=\"SpecificDisease\">T-PLL</category> ) , a rare <category=\"DiseaseClass\">clonal malignancy</category> with similarities to a <category=\"SpecificDisease\">mature T-cell leukaemia</category> seen in <category=\"SpecificDisease\">A-T</category> , we demonstrate a high frequency of ATM mutations in <category=\"SpecificDisease\">T-PLL</category> . In marked contrast to the ATM mutation pattern in <category=\"SpecificDisease\">A-T</category> , the most frequent nucleotide changes in this <category=\"DiseaseClass\">leukaemia</category> were missense mutations . These clustered in the region corresponding to the kinase domain , which is highly conserved in ATM-related proteins in mouse , yeast and Drosophila . The resulting amino-acid substitutions are predicted to interfere with ATP binding or substrate recognition . Two of seventeen mutated <category=\"SpecificDisease\">T-PLL</category> samples had a previously reported <category=\"Modifier\">A-T</category> allele . In contrast , no mutations were detected in the p53 gene , suggesting that this <category=\"Modifier\">tumour</category> suppressor is not frequently altered in this <category=\"DiseaseClass\">leukaemia</category> . Occasional missense mutations in ATM were also found in <category=\"Modifier\">tumour</category> DNA from patients with <category=\"SpecificDisease\">B-cell non-Hodgkins lymphomas</category> ( <category=\"SpecificDisease\">B-NHL</category> ) and a <category=\"Modifier\">B-NHL</category> cell line . The evidence of a significant proportion of loss-of-function mutations and a complete absence of the normal copy of ATM in the majority of mutated <category=\"DiseaseClass\">tumours</category> establishes somatic inactivation of this gene in the pathogenesis of <category=\"SpecificDisease\">sporadic T-PLL</category> and suggests that ATM acts as a <category=\"Modifier\">tumour</category> suppressor . As constitutional DNA was not available , a putative hereditary predisposition to <category=\"SpecificDisease\">T-PLL</category> will require further investigation . . \n",
      "\n"
     ]
    }
   ],
   "source": [
    "# 打开 NCBI_corpus_testing.txt 文件并读取第一行\n",
    "with open(f'{DATA_DIR}/NCBI_corpus_testing.txt') as f:\n",
    "    sample_text=f.readline()  # 读取文件的第一行\n",
    "    \n",
    "print(sample_text)  # 打印读取的文本内容\n"
   ]
  },
  {
   "cell_type": "markdown",
   "id": "1b248b54",
   "metadata": {},
   "source": [
    "在此示例中，我们看到摘要中包含以下标签："
   ]
  },
  {
   "cell_type": "code",
   "execution_count": 3,
   "id": "a1b77d77",
   "metadata": {
    "scrolled": true
   },
   "outputs": [
    {
     "name": "stdout",
     "output_type": "stream",
     "text": [
      "<category=\"Modifier\">ataxia-telangiectasia</category>\n",
      "<category=\"SpecificDisease\">sporadic T-cell leukaemia</category>\n",
      "<category=\"SpecificDisease\">Ataxia-telangiectasia</category>\n",
      "<category=\"SpecificDisease\">A-T</category>\n",
      "<category=\"DiseaseClass\">recessive multi-system disorder</category>\n",
      "<category=\"DiseaseClass\">cancer</category>\n",
      "<category=\"DiseaseClass\">lymphoid neoplasias</category>\n",
      "<category=\"Modifier\">A-T</category>\n",
      "<category=\"Modifier\">tumour</category>\n",
      "<category=\"SpecificDisease\">sporadic T-cell prolymphocytic leukaemia</category>\n",
      "<category=\"SpecificDisease\">T-PLL</category>\n",
      "<category=\"DiseaseClass\">clonal malignancy</category>\n",
      "<category=\"SpecificDisease\">mature T-cell leukaemia</category>\n",
      "<category=\"SpecificDisease\">A-T</category>\n",
      "<category=\"SpecificDisease\">T-PLL</category>\n",
      "<category=\"SpecificDisease\">A-T</category>\n",
      "<category=\"DiseaseClass\">leukaemia</category>\n",
      "<category=\"SpecificDisease\">T-PLL</category>\n",
      "<category=\"Modifier\">A-T</category>\n",
      "<category=\"Modifier\">tumour</category>\n",
      "<category=\"DiseaseClass\">leukaemia</category>\n",
      "<category=\"Modifier\">tumour</category>\n",
      "<category=\"SpecificDisease\">B-cell non-Hodgkins lymphomas</category>\n",
      "<category=\"SpecificDisease\">B-NHL</category>\n",
      "<category=\"Modifier\">B-NHL</category>\n",
      "<category=\"DiseaseClass\">tumours</category>\n",
      "<category=\"SpecificDisease\">sporadic T-PLL</category>\n",
      "<category=\"Modifier\">tumour</category>\n",
      "<category=\"SpecificDisease\">T-PLL</category>\n"
     ]
    }
   ],
   "source": [
    "import re  # 导入正则表达式库\n",
    "\n",
    "# 使用正则表达式查找标签\n",
    "categories=re.findall('<category.*?<\\/category>', sample_text)  # 使用正则表达式查找所有以 `<category>` 开头，以 `</category>` 结尾的字符串\n",
    "for sample in categories:\n",
    "    print(sample)  # 打印每个找到的标签\n"
   ]
  },
  {
   "cell_type": "markdown",
   "id": "6d389aeb",
   "metadata": {},
   "source": [
    "出于我们的目的，我们将任何已识别的类别（例如“修饰符”、“特定疾病”和其他一些类别）大体上视为“疾病”。如果您想查看更多示例，可以使用左侧的文件浏览器浏览语料库的文本，或直接打开文件：\n",
    "\n",
    "* [data/NCBI/NCBI_corpus_training.txt](data/NCBI/NCBI_corpus_training.txt)\n",
    "* [data/NCBI/NCBI_corpus_testing.txt](data/NCBI/NCBI_corpus_testing.txt)\n",
    "* [data/NCBI/NCBI_corpus_development.txt](data/NCBI/NCBI_corpus_development.txt)\n",
    "\n",
    "我们已经从此语料库中派生了一个数据集。对于 NER，数据集将单个单词标记为疾病。\n",
    " "
   ]
  },
  {
   "cell_type": "code",
   "execution_count": 4,
   "id": "285aedd9",
   "metadata": {
    "scrolled": true
   },
   "outputs": [
    {
     "name": "stdout",
     "output_type": "stream",
     "text": [
      "total 1.5M\n",
      "-rw-r--r-- 1 root root 196K Sep 26 07:57 dev.tsv\n",
      "-rw-r--r-- 1 root root 201K Sep 26 07:57 test.tsv\n",
      "-rw-r--r-- 1 root root 1.1M Sep 26 07:57 train.tsv\n"
     ]
    }
   ],
   "source": [
    "NER_DATA_DIR = f'{DATA_DIR}/NER'  # 定义 NER 数据文件夹的路径\n",
    "os.makedirs(os.path.join(DATA_DIR, 'NER'), exist_ok=True)  # 创建 NER 数据文件夹，如果文件夹已存在则不进行操作\n",
    "\n",
    "# 显示下载的文件\n",
    "!ls -lh $NER_DATA_DIR  # 使用 shell 命令 ls 列出 NER 数据文件夹的内容，并显示详细信息，例如文件大小和权限\n"
   ]
  },
  {
   "cell_type": "code",
   "execution_count": 5,
   "id": "953f7e4c",
   "metadata": {
    "scrolled": true
   },
   "outputs": [
    {
     "name": "stdout",
     "output_type": "stream",
     "text": [
      "Identification\tO\n",
      "of\tO\n",
      "APC2\tO\n",
      ",\tO\n",
      "a\tO\n",
      "homologue\tO\n",
      "of\tO\n",
      "the\tO\n",
      "adenomatous\tB-Disease\n",
      "polyposis\tI-Disease\n"
     ]
    }
   ],
   "source": [
    "# 显示 train.tsv 文件的内容\n",
    "!head $NER_DATA_DIR/train.tsv  # 使用 shell 命令 head 打印 train.tsv 文件的内容\n"
   ]
  },
  {
   "cell_type": "markdown",
   "id": "0f78a8b1",
   "metadata": {},
   "source": [
    "_注意:_ 我们可以看到摘要已分解成句子。然后，每个句子进一步解析成带有标签的单词，这些标签对应于语料库中原始的 HTML 样式标签。"
   ]
  },
  {
   "cell_type": "markdown",
   "id": "ce3ead7e",
   "metadata": {},
   "source": [
    "### 预处理数据 ###\n",
    "> Preprocess Data\n",
    "\n",
    "我们需要将这些数据转换为与 NeMo 标记分类模块兼容的格式。为方便起见，我们提供了此转换的脚本[此处](https://github.com/NVIDIA/NeMo/blob/stable/examples/nlp/token_classification/data/import_from_iob_format.py)。. "
   ]
  },
  {
   "cell_type": "code",
   "execution_count": 6,
   "id": "3cea25d2",
   "metadata": {
    "scrolled": true
   },
   "outputs": [
    {
     "name": "stdout",
     "output_type": "stream",
     "text": [
      "NOTE! Installing ujson may make loading annotations faster.\n",
      "[NeMo I 2024-09-26 08:13:28 import_from_iob_format:119] Processing data/NCBI/NER/train.tsv\n",
      "[NeMo I 2024-09-26 08:13:28 import_from_iob_format:124] Processing of the data/NCBI/NER/train.tsv is complete\n",
      "NOTE! Installing ujson may make loading annotations faster.\n",
      "[NeMo I 2024-09-26 08:13:32 import_from_iob_format:119] Processing data/NCBI/NER/dev.tsv\n",
      "[NeMo I 2024-09-26 08:13:32 import_from_iob_format:124] Processing of the data/NCBI/NER/dev.tsv is complete\n",
      "NOTE! Installing ujson may make loading annotations faster.\n",
      "[NeMo I 2024-09-26 08:13:37 import_from_iob_format:119] Processing data/NCBI/NER/test.tsv\n",
      "[NeMo I 2024-09-26 08:13:37 import_from_iob_format:124] Processing of the data/NCBI/NER/test.tsv is complete\n"
     ]
    }
   ],
   "source": [
    "# 调用转换脚本\n",
    "!python import_from_iob_format.py --data_file=$NER_DATA_DIR/train.tsv  # 执行 import_from_iob_format.py 脚本，并将 train.tsv 文件作为输入\n",
    "!python import_from_iob_format.py --data_file=$NER_DATA_DIR/dev.tsv  # 执行 import_from_iob_format.py 脚本，并将 dev.tsv 文件作为输入\n",
    "!python import_from_iob_format.py --data_file=$NER_DATA_DIR/test.tsv  # 执行 import_from_iob_format.py 脚本，并将 test.tsv 文件作为输入\n"
   ]
  },
  {
   "cell_type": "markdown",
   "id": "7c4ab2f3",
   "metadata": {},
   "source": [
    "#### IOB 标记与疾病命名实体识别\n",
    "\n",
    "请回忆，NER 数据集中句子和标签的对应关系是通过**内部、外部、开始（IOB）**标记实现的。任何以空格分隔的部分都被视为一个词，包括标点符号。这种机制可以广泛应用于多种命名实体类型：\n",
    "\n",
    "* B-{CHUNK_TYPE} – 标记**开头**块中的词\n",
    "* I-{CHUNK_TYPE} – 标记块**内部**的词\n",
    "* O – 标记任何块**外部**的词\n",
    "\n",
    "在我们的例子中，我们只关注“疾病”作为我们的实体（或块）类型，因此我们不需要识别这三种类别之外的其他类别：I、O 和 B。\n",
    "\n",
    "**三种类别**\n",
    "\n",
    "* B - 疾病名称的**开头**\n",
    "* I - 疾病名称**内部**的词\n",
    "* O - 所有疾病名称**外部**\n",
    "\n",
    "例如，对于第一个句子，我们有以下映射：\n",
    "\n",
    "```text\n",
    "Identification of APC2 , a homologue of the adenomatous polyposis coli tumour suppressor .\n",
    "O              O  O    O O O         O  O   B           I         I    I      O          O  \n",
    "```\n",
    "\n",
    "为了进行比较，原始语料库标签如下所示：\n",
    "\n",
    "```html\n",
    "Identification of APC2, a homologue of the <category=\"Modifier\">adenomatous polyposis coli tumour</category> suppressor.\n",
    "```\n",
    "\n",
    "标记文本的第一个词“adenomatous”现在被 IOB 标记为**B**（开头）标签，疾病的其他部分“polyposis coli tumour”被标记为**I**（内部）标签，其他所有内容都被标记为**O**（外部）。\n"
   ]
  },
  {
   "cell_type": "code",
   "execution_count": 7,
   "id": "af1ddd59",
   "metadata": {
    "scrolled": true
   },
   "outputs": [
    {
     "name": "stdout",
     "output_type": "stream",
     "text": [
      "Identification of APC2 , a homologue of the adenomatous polyposis coli tumour suppressor . \n",
      "O O O O O O O O B-Disease I-Disease I-Disease I-Disease O O \n"
     ]
    }
   ],
   "source": [
    "# 预览数据集\n",
    "!head -n 1 $NER_DATA_DIR/text_train.txt  # 使用 shell 命令 head 打印 text_train.txt 文件的第一行\n",
    "!head -n 1 $NER_DATA_DIR/labels_train.txt  # 使用 shell 命令 head 打印 labels_train.txt 文件的第一行\n"
   ]
  },
  {
   "cell_type": "markdown",
   "id": "c68507e0",
   "metadata": {},
   "source": [
    "## 为自定义领域微调预训练模型 ##\n",
    "> Fine-Tune a Pre-Trained Model for Custom Domain\n",
    "\n",
    "命名实体识别模型通常由一个预训练的[BERT](https://arxiv.org/pdf/1810.04805.pdf)模型和一个标记分类层组成。为了进行训练，我们可以使用配置文件来定义模型。配置文件包含几个重要的部分，包括：\n",
    "\n",
    "* **model**: 所有与模型相关的参数 - 语言模型、标记分类器、优化器和调度器、数据集以及任何其他相关信息\n",
    "* **trainer**: 传递给 PyTorch Lightning 的任何参数\n",
    "\n",
    "_注意:_ NeMo 提供了一个创建配置文件的模板，建议将其作为起点，但只要遵循所需格式，您也可以创建自己的配置文件。"
   ]
  },
  {
   "cell_type": "markdown",
   "id": "d4ec94b8",
   "metadata": {},
   "source": [
    "### 配置文件 ###\n",
    "> Configuration File"
   ]
  },
  {
   "cell_type": "code",
   "execution_count": 8,
   "id": "3aefc51f",
   "metadata": {},
   "outputs": [],
   "source": [
    "# 定义配置文件路径\n",
    "MODEL_CONFIG = \"token_classification_config.yaml\"  # 定义配置文件名称\n",
    "WORK_DIR = \"WORK_DIR\"  # 定义工作目录\n",
    "os.makedirs(WORK_DIR, exist_ok=True)  # 创建工作目录，如果目录已存在则不进行操作\n"
   ]
  },
  {
   "cell_type": "code",
   "execution_count": 9,
   "id": "765854a3",
   "metadata": {},
   "outputs": [
    {
     "name": "stdout",
     "output_type": "stream",
     "text": [
      "下载配置文件...\n"
     ]
    }
   ],
   "source": [
    "# 下载模型的配置文件\n",
    "BRANCH = 'main'  # 定义 GitHub 分支名称\n",
    "config_dir = WORK_DIR + '/configs/'  # 定义配置文件目录\n",
    "os.makedirs(config_dir, exist_ok=True)  # 创建配置文件目录，如果目录已存在则不进行操作\n",
    "\n",
    "if not os.path.exists(config_dir + MODEL_CONFIG):  # 检查配置文件是否存在\n",
    "    print('下载配置文件...')  # 打印提示信息\n",
    "    wget.download(f'https://raw.githubusercontent.com/NVIDIA/NeMo/{BRANCH}/examples/nlp/token_classification/conf/' + MODEL_CONFIG, config_dir)  # 从 GitHub 仓库下载配置文件\n",
    "else:\n",
    "    print ('配置文件已存在')  # 打印提示信息\n"
   ]
  },
  {
   "cell_type": "markdown",
   "id": "a0518de3",
   "metadata": {},
   "source": [
    "NER 的配置文件 `token_classification_config.yaml` 指定了模型、训练和实验管理细节，例如文件位置、预训练模型和超参数。我们下载的 YAML 配置文件为大多数参数提供了默认值，但此实验必须指定一些项目。\n",
    "\n",
    "使用 `omegaconf` 包可以更轻松地查看每个 YAML 部分，它允许您使用“点”表示法访问和操作配置键。我们将使用 `OmegaConf` 工具查看每个部分的详细信息。\n"
   ]
  },
  {
   "cell_type": "code",
   "execution_count": 10,
   "id": "6dac7570",
   "metadata": {
    "scrolled": true
   },
   "outputs": [
    {
     "name": "stdout",
     "output_type": "stream",
     "text": [
      "pretrained_model: null\n",
      "trainer:\n",
      "  devices: 1\n",
      "  num_nodes: 1\n",
      "  max_epochs: 5\n",
      "  max_steps: -1\n",
      "  accumulate_grad_batches: 1\n",
      "  gradient_clip_val: 0.0\n",
      "  precision: 16\n",
      "  accelerator: gpu\n",
      "  enable_checkpointing: false\n",
      "  logger: false\n",
      "  log_every_n_steps: 1\n",
      "  val_check_interval: 1.0\n",
      "exp_manager:\n",
      "  exp_dir: null\n",
      "  name: token_classification_model\n",
      "  create_tensorboard_logger: true\n",
      "  create_checkpoint_callback: true\n",
      "model:\n",
      "  label_ids: null\n",
      "  class_labels:\n",
      "    class_labels_file: label_ids.csv\n",
      "  dataset:\n",
      "    data_dir: ???\n",
      "    class_balancing: null\n",
      "    max_seq_length: 128\n",
      "    pad_label: O\n",
      "    ignore_extra_tokens: false\n",
      "    ignore_start_end: false\n",
      "    use_cache: false\n",
      "    num_workers: 2\n",
      "    pin_memory: false\n",
      "    drop_last: false\n",
      "  train_ds:\n",
      "    text_file: text_train.txt\n",
      "    labels_file: labels_train.txt\n",
      "    shuffle: true\n",
      "    num_samples: -1\n",
      "    batch_size: 64\n",
      "  validation_ds:\n",
      "    text_file: text_dev.txt\n",
      "    labels_file: labels_dev.txt\n",
      "    shuffle: false\n",
      "    num_samples: -1\n",
      "    batch_size: 64\n",
      "  test_ds:\n",
      "    text_file: text_dev.txt\n",
      "    labels_file: labels_dev.txt\n",
      "    shuffle: false\n",
      "    num_samples: -1\n",
      "    batch_size: 64\n",
      "  tokenizer:\n",
      "    tokenizer_name: ${model.language_model.pretrained_model_name}\n",
      "    vocab_file: null\n",
      "    tokenizer_model: null\n",
      "    special_tokens: null\n",
      "  language_model:\n",
      "    pretrained_model_name: bert-base-uncased\n",
      "    lm_checkpoint: null\n",
      "    config_file: null\n",
      "    config: null\n",
      "  head:\n",
      "    num_fc_layers: 2\n",
      "    fc_dropout: 0.5\n",
      "    activation: relu\n",
      "    use_transformer_init: true\n",
      "  optim:\n",
      "    name: adam\n",
      "    lr: 5.0e-05\n",
      "    weight_decay: 0.0\n",
      "    sched:\n",
      "      name: WarmupAnnealing\n",
      "      warmup_steps: null\n",
      "      warmup_ratio: 0.1\n",
      "      last_epoch: -1\n",
      "      monitor: val_loss\n",
      "      reduce_on_plateau: false\n",
      "hydra:\n",
      "  run:\n",
      "    dir: .\n",
      "  job_logging:\n",
      "    root:\n",
      "      handlers: null\n",
      "\n"
     ]
    }
   ],
   "source": [
    "from omegaconf import OmegaConf  # 导入 OmegaConf 库，用于加载和操作配置文件\n",
    "\n",
    "CONFIG_DIR = \"/dli/task/WORK_DIR/configs\"  # 定义配置文件目录\n",
    "CONFIG_FILE = \"token_classification_config.yaml\"  # 定义配置文件名称\n",
    "\n",
    "config=OmegaConf.load(CONFIG_DIR + \"/\" + CONFIG_FILE)  # 加载配置文件\n",
    "\n",
    "# 打印整个配置文件\n",
    "print(OmegaConf.to_yaml(config))  # 打印配置文件的内容，以 YAML 格式输出\n"
   ]
  },
  {
   "cell_type": "markdown",
   "id": "98668621",
   "metadata": {},
   "source": [
    "请注意，某些配置文件行，包括 `model.dataset.data_dir`，在路径位置使用 `???`，这意味着用户需要指定这些字段的值。有关模型参数的详细信息，请参阅[文档](https://docs.nvidia.com/deeplearning/nemo/user-guide/docs/en/stable/nlp/token_classification.html#training-the-token-classification-model)。"
   ]
  },
  {
   "cell_type": "code",
   "execution_count": 11,
   "id": "0021b4a5",
   "metadata": {
    "scrolled": true
   },
   "outputs": [
    {
     "name": "stdout",
     "output_type": "stream",
     "text": [
      "label_ids: null\n",
      "class_labels:\n",
      "  class_labels_file: label_ids.csv\n",
      "dataset:\n",
      "  data_dir: data/NCBI/NER\n",
      "  class_balancing: null\n",
      "  max_seq_length: 128\n",
      "  pad_label: O\n",
      "  ignore_extra_tokens: false\n",
      "  ignore_start_end: false\n",
      "  use_cache: false\n",
      "  num_workers: 2\n",
      "  pin_memory: false\n",
      "  drop_last: false\n",
      "train_ds:\n",
      "  text_file: text_train.txt\n",
      "  labels_file: labels_train.txt\n",
      "  shuffle: true\n",
      "  num_samples: -1\n",
      "  batch_size: 64\n",
      "validation_ds:\n",
      "  text_file: text_dev.txt\n",
      "  labels_file: labels_dev.txt\n",
      "  shuffle: false\n",
      "  num_samples: -1\n",
      "  batch_size: 64\n",
      "test_ds:\n",
      "  text_file: text_dev.txt\n",
      "  labels_file: labels_dev.txt\n",
      "  shuffle: false\n",
      "  num_samples: -1\n",
      "  batch_size: 64\n",
      "tokenizer:\n",
      "  tokenizer_name: ${model.language_model.pretrained_model_name}\n",
      "  vocab_file: null\n",
      "  tokenizer_model: null\n",
      "  special_tokens: null\n",
      "language_model:\n",
      "  pretrained_model_name: bert-base-uncased\n",
      "  lm_checkpoint: null\n",
      "  config_file: null\n",
      "  config: null\n",
      "head:\n",
      "  num_fc_layers: 2\n",
      "  fc_dropout: 0.5\n",
      "  activation: relu\n",
      "  use_transformer_init: true\n",
      "optim:\n",
      "  name: adam\n",
      "  lr: 5.0e-05\n",
      "  weight_decay: 0.0\n",
      "  sched:\n",
      "    name: WarmupAnnealing\n",
      "    warmup_steps: null\n",
      "    warmup_ratio: 0.1\n",
      "    last_epoch: -1\n",
      "    monitor: val_loss\n",
      "    reduce_on_plateau: false\n",
      "\n"
     ]
    }
   ],
   "source": [
    "# 在本练习中，训练和开发数据集位于相同文件夹下，并使用默认名称，因此只需将数据目录的路径添加到配置中即可\n",
    "config.model.dataset.data_dir = os.path.join(DATA_DIR, 'NER')  # 更新配置文件中的数据目录路径\n",
    "\n",
    "# 打印模型部分\n",
    "\n",
    "print(OmegaConf.to_yaml(config.model))  # 打印配置文件中模型部分的内容，以 YAML 格式输出"
   ]
  },
  {
   "cell_type": "markdown",
   "id": "6f65170d",
   "metadata": {},
   "source": [
    "_注意:_ 已修改必需的 `model.dataset.data_dir` 参数（用于标记分类）。"
   ]
  },
  {
   "cell_type": "markdown",
   "id": "df925ebb",
   "metadata": {},
   "source": [
    "### 下载领域特定预训练模型 ###\n",
    "> Download Domain-Specific Pre-Trained Model\n",
    "\n",
    "对于此标记分类任务，我们可以从预训练的 `BioMegatron` 语言模型开始。`BioMegatron` 模型是在大型生物医学文本语料库上训练的、特定于领域的、类似 BERT 的 Megatron-LM 模型。由于该模型是在特定于领域的文本上训练的，因此与通用语言模型相比，我们可以预期它在识别疾病方面具有更好的性能。\n",
    "\n",
    "_注意：_BioMegatron 还有一些替代方案，例如 BioBERT。值得尝试不同的预训练模型，以找到最适合特定任务的模型。\n"
   ]
  },
  {
   "cell_type": "code",
   "execution_count": 12,
   "id": "9b77afb3",
   "metadata": {
    "scrolled": true
   },
   "outputs": [
    {
     "name": "stdout",
     "output_type": "stream",
     "text": [
      "NOTE! Installing ujson may make loading annotations faster.\n",
      "megatron_bert_345m_cased\n",
      "megatron_bert_345m_uncased\n",
      "biomegatron345m_biovocab_50k_cased\n",
      "biomegatron345m_biovocab_50k_uncased\n",
      "biomegatron345m_biovocab_30k_cased\n",
      "biomegatron345m_biovocab_30k_uncased\n",
      "biomegatron-bert-345m-cased\n",
      "biomegatron-bert-345m-uncased\n"
     ]
    }
   ],
   "source": [
    "# 导入依赖项\n",
    "from nemo.collections.nlp.models.language_modeling.megatron_bert_model import MegatronBertModel  # 导入 MegatronBertModel 类，用于加载和使用 Megatron-BERT 模型\n",
    "\n",
    "# 列出可用的预训练模型\n",
    "for model in MegatronBertModel.list_available_models():  # 遍历 MegatronBertModel 类中定义的可用预训练模型\n",
    "    print(model.pretrained_model_name)  # 打印每个模型的预训练模型名称\n"
   ]
  },
  {
   "cell_type": "markdown",
   "id": "b7843308",
   "metadata": {},
   "source": [
    "为了加载预训练的 BERT LM 模型，我们更改了配置文件中的 `model.language_mode` 参数以及其他一些参数。"
   ]
  },
  {
   "cell_type": "code",
   "execution_count": 13,
   "id": "f1ab5cff",
   "metadata": {},
   "outputs": [],
   "source": [
    "# 将上述指定的模型参数添加到配置中\n",
    "MODEL_NAME='biomegatron345m_biovocab_30k_cased'  # 定义要使用的预训练模型名称\n",
    "# MODEL_NAME='biomegatron-bert-345m-cased'  # 也可以选择使用这个预训练模型\n",
    "\n",
    "config.model.language_model.lm_checkpoint=None  # 设置语言模型的检查点路径，这里设置为 None，表示不使用检查点\n",
    "config.model.language_model.pretrained_model_name=MODEL_NAME  # 设置语言模型的预训练模型名称\n",
    "config.model.tokenizer.tokenizer_name=None  # 设置分词器的名称，这里设置为 None，表示使用默认的分词器\n",
    "\n",
    "# 根据 GPU 容量使用合适的配置\n",
    "config.model.dataset_max_seq_length=64  # 设置数据集的最大序列长度\n",
    "config.model.train_ds.batch_size=32  # 设置训练数据集的批次大小\n",
    "config.model.validation_ds.batch_size=32  # 设置验证数据集的批次大小\n",
    "config.model.test_ds.batch_size=32  # 设置测试数据集的批次大小\n",
    "\n",
    "# 限制本演示的 epochs 数\n",
    "config.trainer.max_epochs=1  # 设置最大 epochs 数，这里限制为 1\n",
    "# config.trainer.precision=16  # 设置训练精度，这里设置为 16 位浮点数，可以加快训练速度\n",
    "# config.trainer.amp_level='O1'  # 设置混合精度训练级别，这里设置为 'O1'，可以加快训练速度\n"
   ]
  },
  {
   "cell_type": "markdown",
   "id": "ee6792f4",
   "metadata": {},
   "source": [
    "_注意:_ 一旦 `token_classification_config.yaml` 文件加载到内存中，更改配置文件将需要重新定义 `config` 变量。"
   ]
  },
  {
   "cell_type": "markdown",
   "id": "b5498618",
   "metadata": {},
   "source": [
    "现在，我们准备初始化我们的模型。在模型初始化调用期间，将为训练和评估准备数据集和数据加载器。此外，将下载预训练的 BERT 模型，这可能需要几分钟，具体取决于所选 BERT 模型的大小。"
   ]
  },
  {
   "cell_type": "markdown",
   "id": "bdc684d2",
   "metadata": {},
   "source": [
    "#### 练习 # 1 - 实例化模型和训练器 ####\n",
    "> Instantiate Model and Trainer\n",
    "\n",
    "* 修改 `<FIXME>` 以基于配置文件和训练器实例化 `TokenClassificationModel`。"
   ]
  },
  {
   "cell_type": "raw",
   "id": "d25329d0",
   "metadata": {},
   "source": [
    "# create trainer and model instances\n",
    "from nemo.collections.nlp.models import TokenClassificationModel\n",
    "import pytorch_lightning as pl\n",
    "\n",
    "trainer=pl.Trainer(**config.trainer)\n",
    "ner_model=TokenClassificationModel(<<<<FIXME>>>>)"
   ]
  },
  {
   "cell_type": "code",
   "execution_count": 14,
   "id": "671283b0",
   "metadata": {},
   "outputs": [
    {
     "name": "stderr",
     "output_type": "stream",
     "text": [
      "Using 16bit None Automatic Mixed Precision (AMP)\n",
      "GPU available: True (cuda), used: True\n",
      "TPU available: False, using: 0 TPU cores\n",
      "IPU available: False, using: 0 IPUs\n",
      "HPU available: False, using: 0 HPUs\n",
      "`Trainer(val_check_interval=1.0)` was configured so validation will run at the end of the training epoch..\n",
      "[NeMo W 2024-09-26 08:14:33 lm_utils:91] biomegatron345m_biovocab_30k_cased is not in get_pretrained_lm_models_list(include_external=False), will be using AutoModel from HuggingFace.\n"
     ]
    },
    {
     "name": "stdout",
     "output_type": "stream",
     "text": [
      "[NeMo I 2024-09-26 08:14:33 cloud:68] Downloading from: https://api.ngc.nvidia.com/v2/models/nvidia/nemo/biomegatron345m_biovocab_30k_cased/versions/1/files/BioMegatron345m-biovocab-30k-cased.nemo to /root/.cache/torch/NeMo/NeMo_1.20.0/BioMegatron345m-biovocab-30k-cased/5885010653185bba59bf489ff757bf09/BioMegatron345m-biovocab-30k-cased.nemo\n",
      "[NeMo I 2024-09-26 08:14:38 common:913] Instantiating model from pre-trained checkpoint\n",
      "[NeMo I 2024-09-26 08:14:40 megatron_init:234] Rank 0 has data parallel group: [0]\n",
      "[NeMo I 2024-09-26 08:14:40 megatron_init:237] All data parallel group ranks: [[0]]\n",
      "[NeMo I 2024-09-26 08:14:40 megatron_init:238] Ranks 0 has data parallel rank: 0\n",
      "[NeMo I 2024-09-26 08:14:40 megatron_init:246] Rank 0 has model parallel group: [0]\n",
      "[NeMo I 2024-09-26 08:14:40 megatron_init:247] All model parallel group ranks: [[0]]\n",
      "[NeMo I 2024-09-26 08:14:40 megatron_init:257] Rank 0 has tensor model parallel group: [0]\n",
      "[NeMo I 2024-09-26 08:14:40 megatron_init:261] All tensor model parallel group ranks: [[0]]\n",
      "[NeMo I 2024-09-26 08:14:40 megatron_init:262] Rank 0 has tensor model parallel rank: 0\n",
      "[NeMo I 2024-09-26 08:14:40 megatron_init:276] Rank 0 has pipeline model parallel group: [0]\n",
      "[NeMo I 2024-09-26 08:14:40 megatron_init:288] Rank 0 has embedding group: [0]\n",
      "[NeMo I 2024-09-26 08:14:40 megatron_init:294] All pipeline model parallel group ranks: [[0]]\n",
      "[NeMo I 2024-09-26 08:14:40 megatron_init:295] Rank 0 has pipeline model parallel rank 0\n",
      "[NeMo I 2024-09-26 08:14:40 megatron_init:296] All embedding group ranks: [[0]]\n",
      "[NeMo I 2024-09-26 08:14:40 megatron_init:297] Rank 0 has embedding rank: 0\n"
     ]
    },
    {
     "name": "stderr",
     "output_type": "stream",
     "text": [
      "[NeMo W 2024-09-26 08:14:40 modelPT:244] You tried to register an artifact under config key=tokenizer.vocab_file but an artifact for it has already been registered.\n"
     ]
    },
    {
     "name": "stdout",
     "output_type": "stream",
     "text": [
      "[NeMo I 2024-09-26 08:14:40 tokenizer_utils:204] Getting Megatron tokenizer for pretrained model name: megatron-bert-345m-cased, custom vocab file: /tmp/tmpp6eipx9o/f67afcc805164750a9eb2aa564aaf9a9_pubmed_merged-all-cased.vocab.txt, and merges file: None\n",
      "[NeMo I 2024-09-26 08:14:40 tokenizer_utils:130] Getting HuggingFace AutoTokenizer with pretrained_model_name: bert-large-cased, vocab_file: /tmp/tmpp6eipx9o/f67afcc805164750a9eb2aa564aaf9a9_pubmed_merged-all-cased.vocab.txt, merges_files: None, special_tokens_dict: {}, and use_fast: False\n"
     ]
    },
    {
     "data": {
      "application/vnd.jupyter.widget-view+json": {
       "model_id": "cc9559d69f404f8b86ebb7768b923a43",
       "version_major": 2,
       "version_minor": 0
      },
      "text/plain": [
       "Downloading tokenizer_config.json:   0%|          | 0.00/49.0 [00:00<?, ?B/s]"
      ]
     },
     "metadata": {},
     "output_type": "display_data"
    },
    {
     "data": {
      "application/vnd.jupyter.widget-view+json": {
       "model_id": "ec4fad454ef148d19d904eff8e6fe2ab",
       "version_major": 2,
       "version_minor": 0
      },
      "text/plain": [
       "Downloading config.json:   0%|          | 0.00/762 [00:00<?, ?B/s]"
      ]
     },
     "metadata": {},
     "output_type": "display_data"
    },
    {
     "data": {
      "application/vnd.jupyter.widget-view+json": {
       "model_id": "5881948c61f64f37b0316d42ff9fa7dc",
       "version_major": 2,
       "version_minor": 0
      },
      "text/plain": [
       "Downloading vocab.txt:   0%|          | 0.00/213k [00:00<?, ?B/s]"
      ]
     },
     "metadata": {},
     "output_type": "display_data"
    },
    {
     "name": "stderr",
     "output_type": "stream",
     "text": [
      "Using eos_token, but it is not set yet.\n",
      "Using bos_token, but it is not set yet.\n"
     ]
    },
    {
     "name": "stdout",
     "output_type": "stream",
     "text": [
      "[NeMo I 2024-09-26 08:14:40 megatron_base_model:264] Padded vocab_size: 31104, original vocab_size: 31079, dummy tokens: 25.\n",
      "[NeMo I 2024-09-26 08:14:41 save_restore_connector:249] Model MegatronBertModel was successfully restored from /root/.cache/torch/NeMo/NeMo_1.20.0/BioMegatron345m-biovocab-30k-cased/5885010653185bba59bf489ff757bf09/BioMegatron345m-biovocab-30k-cased.nemo.\n",
      "[NeMo I 2024-09-26 08:14:41 token_classification_utils:118] Processing data/NCBI/NER/labels_train.txt\n",
      "[NeMo I 2024-09-26 08:14:41 token_classification_utils:154] Labels mapping {'O': 0, 'B-Disease': 1, 'I-Disease': 2} saved to : data/NCBI/NER/label_ids.csv\n",
      "[NeMo I 2024-09-26 08:14:41 token_classification_utils:163] Three most popular labels in data/NCBI/NER/labels_train.txt:\n",
      "[NeMo I 2024-09-26 08:14:41 data_preprocessing:194] label: 0, 124819 out of 136086 (91.72%).\n",
      "[NeMo I 2024-09-26 08:14:41 data_preprocessing:194] label: 2, 6122 out of 136086 (4.50%).\n",
      "[NeMo I 2024-09-26 08:14:41 data_preprocessing:194] label: 1, 5145 out of 136086 (3.78%).\n",
      "[NeMo I 2024-09-26 08:14:41 token_classification_utils:165] Total labels: 136086. Label frequencies - {0: 124819, 2: 6122, 1: 5145}\n",
      "[NeMo I 2024-09-26 08:14:41 token_classification_utils:174] Class Weights: {0: 0.36342223539685464, 2: 7.409670042469781, 1: 8.816715257531584}\n",
      "[NeMo I 2024-09-26 08:14:41 token_classification_utils:178] Class weights saved to data/NCBI/NER/labels_train_weights.p\n",
      "[NeMo I 2024-09-26 08:14:48 token_classification_dataset:123] Setting Max Seq length to: 128\n",
      "[NeMo I 2024-09-26 08:14:48 data_preprocessing:404] Some stats of the lengths of the sequences:\n",
      "[NeMo I 2024-09-26 08:14:48 data_preprocessing:406] Min: 4 |                  Max: 150 |                  Mean: 30.271723122238587 |                  Median: 28.0\n",
      "[NeMo I 2024-09-26 08:14:48 data_preprocessing:412] 75 percentile: 38.00\n",
      "[NeMo I 2024-09-26 08:14:48 data_preprocessing:413] 99 percentile: 75.00\n"
     ]
    },
    {
     "name": "stderr",
     "output_type": "stream",
     "text": [
      "[NeMo W 2024-09-26 08:14:48 token_classification_dataset:152] 3 are longer than 128\n"
     ]
    },
    {
     "name": "stdout",
     "output_type": "stream",
     "text": [
      "[NeMo I 2024-09-26 08:14:48 token_classification_dataset:155] *** Example ***\n",
      "[NeMo I 2024-09-26 08:14:48 token_classification_dataset:156] i: 0\n",
      "[NeMo I 2024-09-26 08:14:48 token_classification_dataset:157] subtokens: [CLS] Identification of APC ##2 , a homologue of the adenoma ##to ##us polyp ##osis coli tumour suppressor . [SEP]\n",
      "[NeMo I 2024-09-26 08:14:48 token_classification_dataset:158] loss_mask: 1 1 1 1 1 1 1 1 1 1 1 1 1 1 1 1 1 1 1 1 0 0 0 0 0 0 0 0 0 0 0 0 0 0 0 0 0 0 0 0 0 0 0 0 0 0 0 0 0 0 0 0 0 0 0 0 0 0 0 0 0 0 0 0 0 0 0 0 0 0 0 0 0 0 0 0 0 0 0 0 0 0 0 0 0 0 0 0 0 0 0 0 0 0 0 0 0 0 0 0 0 0 0 0 0 0 0 0 0 0 0 0 0 0 0 0 0 0 0 0 0 0 0 0 0 0 0 0\n",
      "[NeMo I 2024-09-26 08:14:48 token_classification_dataset:159] input_mask: 1 1 1 1 1 1 1 1 1 1 1 1 1 1 1 1 1 1 1 1 0 0 0 0 0 0 0 0 0 0 0 0 0 0 0 0 0 0 0 0 0 0 0 0 0 0 0 0 0 0 0 0 0 0 0 0 0 0 0 0 0 0 0 0 0 0 0 0 0 0 0 0 0 0 0 0 0 0 0 0 0 0 0 0 0 0 0 0 0 0 0 0 0 0 0 0 0 0 0 0 0 0 0 0 0 0 0 0 0 0 0 0 0 0 0 0 0 0 0 0 0 0 0 0 0 0 0 0\n",
      "[NeMo I 2024-09-26 08:14:48 token_classification_dataset:160] subtokens_mask: 0 1 1 1 0 1 1 1 1 1 1 0 0 1 0 1 1 1 1 0 0 0 0 0 0 0 0 0 0 0 0 0 0 0 0 0 0 0 0 0 0 0 0 0 0 0 0 0 0 0 0 0 0 0 0 0 0 0 0 0 0 0 0 0 0 0 0 0 0 0 0 0 0 0 0 0 0 0 0 0 0 0 0 0 0 0 0 0 0 0 0 0 0 0 0 0 0 0 0 0 0 0 0 0 0 0 0 0 0 0 0 0 0 0 0 0 0 0 0 0 0 0 0 0 0 0 0 0\n",
      "[NeMo I 2024-09-26 08:14:48 token_classification_dataset:162] labels: 0 0 0 0 0 0 0 0 0 0 1 1 1 2 2 2 2 0 0 0 0 0 0 0 0 0 0 0 0 0 0 0 0 0 0 0 0 0 0 0 0 0 0 0 0 0 0 0 0 0 0 0 0 0 0 0 0 0 0 0 0 0 0 0 0 0 0 0 0 0 0 0 0 0 0 0 0 0 0 0 0 0 0 0 0 0 0 0 0 0 0 0 0 0 0 0 0 0 0 0 0 0 0 0 0 0 0 0 0 0 0 0 0 0 0 0 0 0 0 0 0 0 0 0 0 0 0 0\n",
      "[NeMo I 2024-09-26 08:14:49 token_classification_dataset:278] features saved to data/NCBI/NER/cached__text_train.txt__labels_train.txt__BertTokenizer_128_31079_-1\n",
      "[NeMo I 2024-09-26 08:14:49 token_classification_utils:118] Processing data/NCBI/NER/labels_dev.txt\n",
      "[NeMo I 2024-09-26 08:14:49 token_classification_utils:138] Using provided labels mapping {'O': 0, 'B-Disease': 1, 'I-Disease': 2}\n",
      "[NeMo I 2024-09-26 08:14:49 token_classification_utils:163] Three most popular labels in data/NCBI/NER/labels_dev.txt:\n",
      "[NeMo I 2024-09-26 08:14:49 data_preprocessing:194] label: 0, 22092 out of 23969 (92.17%).\n",
      "[NeMo I 2024-09-26 08:14:49 data_preprocessing:194] label: 2, 1090 out of 23969 (4.55%).\n",
      "[NeMo I 2024-09-26 08:14:49 data_preprocessing:194] label: 1, 787 out of 23969 (3.28%).\n",
      "[NeMo I 2024-09-26 08:14:49 token_classification_utils:165] Total labels: 23969. Label frequencies - {0: 22092, 2: 1090, 1: 787}\n",
      "[NeMo I 2024-09-26 08:14:50 token_classification_dataset:123] Setting Max Seq length to: 99\n",
      "[NeMo I 2024-09-26 08:14:50 data_preprocessing:404] Some stats of the lengths of the sequences:\n",
      "[NeMo I 2024-09-26 08:14:50 data_preprocessing:406] Min: 4 |                  Max: 99 |                  Mean: 30.793066088840735 |                  Median: 28.0\n",
      "[NeMo I 2024-09-26 08:14:50 data_preprocessing:412] 75 percentile: 39.00\n",
      "[NeMo I 2024-09-26 08:14:50 data_preprocessing:413] 99 percentile: 75.34\n"
     ]
    },
    {
     "name": "stderr",
     "output_type": "stream",
     "text": [
      "[NeMo W 2024-09-26 08:14:50 token_classification_dataset:152] 0 are longer than 99\n"
     ]
    },
    {
     "name": "stdout",
     "output_type": "stream",
     "text": [
      "[NeMo I 2024-09-26 08:14:50 token_classification_dataset:155] *** Example ***\n",
      "[NeMo I 2024-09-26 08:14:50 token_classification_dataset:156] i: 0\n",
      "[NeMo I 2024-09-26 08:14:50 token_classification_dataset:157] subtokens: [CLS] BRCA ##1 is secreted and exhibits properties of a gran ##in . [SEP]\n",
      "[NeMo I 2024-09-26 08:14:50 token_classification_dataset:158] loss_mask: 1 1 1 1 1 1 1 1 1 1 1 1 1 1 0 0 0 0 0 0 0 0 0 0 0 0 0 0 0 0 0 0 0 0 0 0 0 0 0 0 0 0 0 0 0 0 0 0 0 0 0 0 0 0 0 0 0 0 0 0 0 0 0 0 0 0 0 0 0 0 0 0 0 0 0 0 0 0 0 0 0 0 0 0 0 0 0 0 0 0 0 0 0 0 0 0 0 0 0\n",
      "[NeMo I 2024-09-26 08:14:50 token_classification_dataset:159] input_mask: 1 1 1 1 1 1 1 1 1 1 1 1 1 1 0 0 0 0 0 0 0 0 0 0 0 0 0 0 0 0 0 0 0 0 0 0 0 0 0 0 0 0 0 0 0 0 0 0 0 0 0 0 0 0 0 0 0 0 0 0 0 0 0 0 0 0 0 0 0 0 0 0 0 0 0 0 0 0 0 0 0 0 0 0 0 0 0 0 0 0 0 0 0 0 0 0 0 0 0\n",
      "[NeMo I 2024-09-26 08:14:50 token_classification_dataset:160] subtokens_mask: 0 1 0 1 1 1 1 1 1 1 1 0 1 0 0 0 0 0 0 0 0 0 0 0 0 0 0 0 0 0 0 0 0 0 0 0 0 0 0 0 0 0 0 0 0 0 0 0 0 0 0 0 0 0 0 0 0 0 0 0 0 0 0 0 0 0 0 0 0 0 0 0 0 0 0 0 0 0 0 0 0 0 0 0 0 0 0 0 0 0 0 0 0 0 0 0 0 0 0\n",
      "[NeMo I 2024-09-26 08:14:50 token_classification_dataset:162] labels: 0 0 0 0 0 0 0 0 0 0 0 0 0 0 0 0 0 0 0 0 0 0 0 0 0 0 0 0 0 0 0 0 0 0 0 0 0 0 0 0 0 0 0 0 0 0 0 0 0 0 0 0 0 0 0 0 0 0 0 0 0 0 0 0 0 0 0 0 0 0 0 0 0 0 0 0 0 0 0 0 0 0 0 0 0 0 0 0 0 0 0 0 0 0 0 0 0 0 0\n",
      "[NeMo I 2024-09-26 08:14:50 token_classification_dataset:278] features saved to data/NCBI/NER/cached__text_dev.txt__labels_dev.txt__BertTokenizer_128_31079_-1\n",
      "[NeMo I 2024-09-26 08:14:50 token_classification_utils:118] Processing data/NCBI/NER/labels_dev.txt\n",
      "[NeMo I 2024-09-26 08:14:50 token_classification_utils:138] Using provided labels mapping {'O': 0, 'B-Disease': 1, 'I-Disease': 2}\n",
      "[NeMo I 2024-09-26 08:14:50 token_classification_utils:160] data/NCBI/NER/labels_dev_label_stats.tsv found, skipping stats calculation.\n",
      "[NeMo I 2024-09-26 08:14:51 token_classification_dataset:123] Setting Max Seq length to: 99\n",
      "[NeMo I 2024-09-26 08:14:51 data_preprocessing:404] Some stats of the lengths of the sequences:\n",
      "[NeMo I 2024-09-26 08:14:51 data_preprocessing:406] Min: 4 |                  Max: 99 |                  Mean: 30.793066088840735 |                  Median: 28.0\n",
      "[NeMo I 2024-09-26 08:14:51 data_preprocessing:412] 75 percentile: 39.00\n",
      "[NeMo I 2024-09-26 08:14:51 data_preprocessing:413] 99 percentile: 75.34\n"
     ]
    },
    {
     "name": "stderr",
     "output_type": "stream",
     "text": [
      "[NeMo W 2024-09-26 08:14:52 token_classification_dataset:152] 0 are longer than 99\n"
     ]
    },
    {
     "name": "stdout",
     "output_type": "stream",
     "text": [
      "[NeMo I 2024-09-26 08:14:52 token_classification_dataset:155] *** Example ***\n",
      "[NeMo I 2024-09-26 08:14:52 token_classification_dataset:156] i: 0\n",
      "[NeMo I 2024-09-26 08:14:52 token_classification_dataset:157] subtokens: [CLS] BRCA ##1 is secreted and exhibits properties of a gran ##in . [SEP]\n",
      "[NeMo I 2024-09-26 08:14:52 token_classification_dataset:158] loss_mask: 1 1 1 1 1 1 1 1 1 1 1 1 1 1 0 0 0 0 0 0 0 0 0 0 0 0 0 0 0 0 0 0 0 0 0 0 0 0 0 0 0 0 0 0 0 0 0 0 0 0 0 0 0 0 0 0 0 0 0 0 0 0 0 0 0 0 0 0 0 0 0 0 0 0 0 0 0 0 0 0 0 0 0 0 0 0 0 0 0 0 0 0 0 0 0 0 0 0 0\n",
      "[NeMo I 2024-09-26 08:14:52 token_classification_dataset:159] input_mask: 1 1 1 1 1 1 1 1 1 1 1 1 1 1 0 0 0 0 0 0 0 0 0 0 0 0 0 0 0 0 0 0 0 0 0 0 0 0 0 0 0 0 0 0 0 0 0 0 0 0 0 0 0 0 0 0 0 0 0 0 0 0 0 0 0 0 0 0 0 0 0 0 0 0 0 0 0 0 0 0 0 0 0 0 0 0 0 0 0 0 0 0 0 0 0 0 0 0 0\n",
      "[NeMo I 2024-09-26 08:14:52 token_classification_dataset:160] subtokens_mask: 0 1 0 1 1 1 1 1 1 1 1 0 1 0 0 0 0 0 0 0 0 0 0 0 0 0 0 0 0 0 0 0 0 0 0 0 0 0 0 0 0 0 0 0 0 0 0 0 0 0 0 0 0 0 0 0 0 0 0 0 0 0 0 0 0 0 0 0 0 0 0 0 0 0 0 0 0 0 0 0 0 0 0 0 0 0 0 0 0 0 0 0 0 0 0 0 0 0 0\n",
      "[NeMo I 2024-09-26 08:14:52 token_classification_dataset:162] labels: 0 0 0 0 0 0 0 0 0 0 0 0 0 0 0 0 0 0 0 0 0 0 0 0 0 0 0 0 0 0 0 0 0 0 0 0 0 0 0 0 0 0 0 0 0 0 0 0 0 0 0 0 0 0 0 0 0 0 0 0 0 0 0 0 0 0 0 0 0 0 0 0 0 0 0 0 0 0 0 0 0 0 0 0 0 0 0 0 0 0 0 0 0 0 0 0 0 0 0\n",
      "[NeMo I 2024-09-26 08:14:52 token_classification_dataset:278] features saved to data/NCBI/NER/cached__text_dev.txt__labels_dev.txt__BertTokenizer_128_31079_-1\n"
     ]
    },
    {
     "name": "stderr",
     "output_type": "stream",
     "text": [
      "[NeMo W 2024-09-26 08:14:52 lm_utils:91] biomegatron345m_biovocab_30k_cased is not in get_pretrained_lm_models_list(include_external=False), will be using AutoModel from HuggingFace.\n"
     ]
    },
    {
     "name": "stdout",
     "output_type": "stream",
     "text": [
      "[NeMo I 2024-09-26 08:14:52 cloud:58] Found existing object /root/.cache/torch/NeMo/NeMo_1.20.0/BioMegatron345m-biovocab-30k-cased/5885010653185bba59bf489ff757bf09/BioMegatron345m-biovocab-30k-cased.nemo.\n",
      "[NeMo I 2024-09-26 08:14:52 cloud:64] Re-using file from: /root/.cache/torch/NeMo/NeMo_1.20.0/BioMegatron345m-biovocab-30k-cased/5885010653185bba59bf489ff757bf09/BioMegatron345m-biovocab-30k-cased.nemo\n",
      "[NeMo I 2024-09-26 08:14:52 common:913] Instantiating model from pre-trained checkpoint\n",
      "[NeMo I 2024-09-26 08:14:53 megatron_init:234] Rank 0 has data parallel group: [0]\n",
      "[NeMo I 2024-09-26 08:14:53 megatron_init:237] All data parallel group ranks: [[0]]\n",
      "[NeMo I 2024-09-26 08:14:53 megatron_init:238] Ranks 0 has data parallel rank: 0\n",
      "[NeMo I 2024-09-26 08:14:53 megatron_init:246] Rank 0 has model parallel group: [0]\n",
      "[NeMo I 2024-09-26 08:14:53 megatron_init:247] All model parallel group ranks: [[0]]\n",
      "[NeMo I 2024-09-26 08:14:53 megatron_init:257] Rank 0 has tensor model parallel group: [0]\n",
      "[NeMo I 2024-09-26 08:14:53 megatron_init:261] All tensor model parallel group ranks: [[0]]\n",
      "[NeMo I 2024-09-26 08:14:53 megatron_init:262] Rank 0 has tensor model parallel rank: 0\n",
      "[NeMo I 2024-09-26 08:14:53 megatron_init:276] Rank 0 has pipeline model parallel group: [0]\n",
      "[NeMo I 2024-09-26 08:14:53 megatron_init:288] Rank 0 has embedding group: [0]\n",
      "[NeMo I 2024-09-26 08:14:53 megatron_init:294] All pipeline model parallel group ranks: [[0]]\n",
      "[NeMo I 2024-09-26 08:14:53 megatron_init:295] Rank 0 has pipeline model parallel rank 0\n",
      "[NeMo I 2024-09-26 08:14:53 megatron_init:296] All embedding group ranks: [[0]]\n",
      "[NeMo I 2024-09-26 08:14:53 megatron_init:297] Rank 0 has embedding rank: 0\n"
     ]
    },
    {
     "name": "stderr",
     "output_type": "stream",
     "text": [
      "[NeMo W 2024-09-26 08:14:53 modelPT:244] You tried to register an artifact under config key=tokenizer.vocab_file but an artifact for it has already been registered.\n"
     ]
    },
    {
     "name": "stdout",
     "output_type": "stream",
     "text": [
      "[NeMo I 2024-09-26 08:14:53 tokenizer_utils:204] Getting Megatron tokenizer for pretrained model name: megatron-bert-345m-cased, custom vocab file: /tmp/tmp_r0ub3ms/f67afcc805164750a9eb2aa564aaf9a9_pubmed_merged-all-cased.vocab.txt, and merges file: None\n",
      "[NeMo I 2024-09-26 08:14:53 tokenizer_utils:130] Getting HuggingFace AutoTokenizer with pretrained_model_name: bert-large-cased, vocab_file: /tmp/tmp_r0ub3ms/f67afcc805164750a9eb2aa564aaf9a9_pubmed_merged-all-cased.vocab.txt, merges_files: None, special_tokens_dict: {}, and use_fast: False\n"
     ]
    },
    {
     "name": "stderr",
     "output_type": "stream",
     "text": [
      "Using eos_token, but it is not set yet.\n",
      "Using bos_token, but it is not set yet.\n"
     ]
    },
    {
     "name": "stdout",
     "output_type": "stream",
     "text": [
      "[NeMo I 2024-09-26 08:14:53 megatron_base_model:264] Padded vocab_size: 31104, original vocab_size: 31079, dummy tokens: 25.\n",
      "[NeMo I 2024-09-26 08:14:54 save_restore_connector:249] Model MegatronBertModel was successfully restored from /root/.cache/torch/NeMo/NeMo_1.20.0/BioMegatron345m-biovocab-30k-cased/5885010653185bba59bf489ff757bf09/BioMegatron345m-biovocab-30k-cased.nemo.\n",
      "[NeMo I 2024-09-26 08:14:54 nlp_model:174] Registering MegatronBERT model config for biomegatron345m_biovocab_30k_cased is not yet supported.                         Please override this method if needed.\n"
     ]
    }
   ],
   "source": [
    "from nemo.collections.nlp.models import TokenClassificationModel  # 导入 TokenClassificationModel 类，用于命名实体识别任务\n",
    "import pytorch_lightning as pl  # 导入 PyTorch Lightning 库，用于深度学习模型训练和评估\n",
    "\n",
    "trainer=pl.Trainer(**config.trainer)  # 创建一个训练器，使用配置文件中的 `trainer` 部分配置\n",
    "ner_model=TokenClassificationModel(cfg=config.model, trainer=trainer)  # 创建一个命名实体识别模型，使用配置文件中的 `model` 部分配置和训练器"
   ]
  },
  {
   "cell_type": "markdown",
   "id": "f3bec337",
   "metadata": {},
   "source": [
    "点击 ... 以显示解决方案。"
   ]
  },
  {
   "cell_type": "markdown",
   "id": "f023260f",
   "metadata": {},
   "source": [
    "### 练习 # 2 - 模型训练 ###\n",
    "> Model Training\n"
   ]
  },
  {
   "cell_type": "raw",
   "id": "95b29fca",
   "metadata": {},
   "source": [
    "# start model training\n",
    "trainer.<<<<FIXME>>>>"
   ]
  },
  {
   "cell_type": "code",
   "execution_count": 15,
   "id": "633be1b6",
   "metadata": {},
   "outputs": [
    {
     "name": "stderr",
     "output_type": "stream",
     "text": [
      "LOCAL_RANK: 0 - CUDA_VISIBLE_DEVICES: [0]\n"
     ]
    },
    {
     "name": "stdout",
     "output_type": "stream",
     "text": [
      "[NeMo I 2024-09-26 08:15:01 modelPT:721] Optimizer config = Adam (\n",
      "    Parameter Group 0\n",
      "        amsgrad: False\n",
      "        betas: (0.9, 0.999)\n",
      "        capturable: False\n",
      "        differentiable: False\n",
      "        eps: 1e-08\n",
      "        foreach: None\n",
      "        fused: None\n",
      "        lr: 5e-05\n",
      "        maximize: False\n",
      "        weight_decay: 0.0\n",
      "    )\n",
      "[NeMo I 2024-09-26 08:15:01 lr_scheduler:910] Scheduler \"<nemo.core.optim.lr_scheduler.WarmupAnnealing object at 0x7f96402c36a0>\" \n",
      "    will be used during training (effective maximum steps = 170) - \n",
      "    Parameters : \n",
      "    (warmup_steps: null\n",
      "    warmup_ratio: 0.1\n",
      "    last_epoch: -1\n",
      "    max_steps: 170\n",
      "    )\n"
     ]
    },
    {
     "name": "stderr",
     "output_type": "stream",
     "text": [
      "\n",
      "  | Name                  | Type                 | Params\n",
      "---------------------------------------------------------------\n",
      "0 | bert_model            | MegatronBertModel    | 334 M \n",
      "1 | classifier            | TokenClassifier      | 1.1 M \n",
      "2 | loss                  | CrossEntropyLoss     | 0     \n",
      "3 | classification_report | ClassificationReport | 0     \n",
      "---------------------------------------------------------------\n",
      "335 M     Trainable params\n",
      "0         Non-trainable params\n",
      "335 M     Total params\n",
      "671.482   Total estimated model params size (MB)\n"
     ]
    },
    {
     "data": {
      "application/vnd.jupyter.widget-view+json": {
       "model_id": "ad292d86e5dd4ee498aac5888015569a",
       "version_major": 2,
       "version_minor": 0
      },
      "text/plain": [
       "Sanity Checking: 0it [00:00, ?it/s]"
      ]
     },
     "metadata": {},
     "output_type": "display_data"
    },
    {
     "name": "stderr",
     "output_type": "stream",
     "text": [
      "[NeMo W 2024-09-26 08:15:01 nemo_logging:349] /usr/local/lib/python3.10/dist-packages/pytorch_lightning/trainer/connectors/data_connector.py:224: PossibleUserWarning: The dataloader, val_dataloader 0, does not have many workers which may be a bottleneck. Consider increasing the value of the `num_workers` argument` (try 16 which is the number of cpus on this machine) in the `DataLoader` init to improve performance.\n",
      "      rank_zero_warn(\n",
      "    \n"
     ]
    },
    {
     "name": "stdout",
     "output_type": "stream",
     "text": [
      "[NeMo I 2024-09-26 08:15:03 token_classification_model:159] \n",
      "    label                                                precision    recall       f1           support   \n",
      "    O (label_id: 0)                                         89.84      40.80      56.12       1495\n",
      "    B-Disease (label_id: 1)                                  2.44      38.10       4.58         42\n",
      "    I-Disease (label_id: 2)                                  2.14       7.59       3.34         79\n",
      "    -------------------\n",
      "    micro avg                                               39.11      39.11      39.11       1616\n",
      "    macro avg                                               31.47      28.83      21.35       1616\n",
      "    weighted avg                                            83.28      39.11      52.20       1616\n",
      "    \n"
     ]
    },
    {
     "name": "stderr",
     "output_type": "stream",
     "text": [
      "[NeMo W 2024-09-26 08:15:03 nemo_logging:349] /usr/local/lib/python3.10/dist-packages/pytorch_lightning/trainer/connectors/data_connector.py:224: PossibleUserWarning: The dataloader, train_dataloader, does not have many workers which may be a bottleneck. Consider increasing the value of the `num_workers` argument` (try 16 which is the number of cpus on this machine) in the `DataLoader` init to improve performance.\n",
      "      rank_zero_warn(\n",
      "    \n"
     ]
    },
    {
     "data": {
      "application/vnd.jupyter.widget-view+json": {
       "model_id": "84cbec4dbf3140608c728454dc19b354",
       "version_major": 2,
       "version_minor": 0
      },
      "text/plain": [
       "Training: 0it [00:00, ?it/s]"
      ]
     },
     "metadata": {},
     "output_type": "display_data"
    },
    {
     "data": {
      "application/vnd.jupyter.widget-view+json": {
       "model_id": "a013b8154b984d03b84131242439d657",
       "version_major": 2,
       "version_minor": 0
      },
      "text/plain": [
       "Validation: 0it [00:00, ?it/s]"
      ]
     },
     "metadata": {},
     "output_type": "display_data"
    },
    {
     "name": "stdout",
     "output_type": "stream",
     "text": [
      "[NeMo I 2024-09-26 08:15:59 token_classification_model:159] \n",
      "    label                                                precision    recall       f1           support   \n",
      "    O (label_id: 0)                                         99.41      99.28      99.34      22092\n",
      "    B-Disease (label_id: 1)                                 83.97      89.83      86.80        787\n",
      "    I-Disease (label_id: 2)                                 92.19      89.91      91.04       1090\n",
      "    -------------------\n",
      "    micro avg                                               98.54      98.54      98.54      23969\n",
      "    macro avg                                               91.85      93.01      92.39      23969\n",
      "    weighted avg                                            98.57      98.54      98.55      23969\n",
      "    \n"
     ]
    },
    {
     "name": "stderr",
     "output_type": "stream",
     "text": [
      "`Trainer.fit` stopped: `max_epochs=1` reached.\n"
     ]
    }
   ],
   "source": [
    "trainer.fit(ner_model)  # 使用训练器对模型进行训练\n"
   ]
  },
  {
   "cell_type": "markdown",
   "id": "6bc671b9",
   "metadata": {},
   "source": [
    "点击 ... 以显示解决方案。"
   ]
  },
  {
   "cell_type": "markdown",
   "id": "166f8869",
   "metadata": {},
   "source": [
    "### 练习 # 3 - 模型评估 ###\n",
    "> Model Evaluation\n",
    "\n",
    "* 修改 `<FIXME>` 以评估模型。\n",
    "\n",
    "为了查看模型的性能，我们可以生成与之前类似的预测并将其与标签进行比较。或者，`evaluate_from_file()` 方法使我们能够根据 `text_file` 和 `labels_file` 评估模型。或者，您可以使用 `add_confusion_matrix` 获取模型性能的可视化表示。"
   ]
  },
  {
   "cell_type": "code",
   "execution_count": 16,
   "id": "f5f65cfa",
   "metadata": {},
   "outputs": [],
   "source": [
    "# 创建开发数据的一个子集\n",
    "!head -n 100 $NER_DATA_DIR/text_dev.txt > $NER_DATA_DIR/sample_text_dev.txt  # 使用 shell 命令 head 取出 text_dev.txt 文件的前 100 行，并保存到 sample_text_dev.txt 文件\n",
    "!head -n 100 $NER_DATA_DIR/labels_dev.txt > $NER_DATA_DIR/sample_labels_dev.txt  # 使用 shell 命令 head 取出 labels_dev.txt 文件的前 100 行，并保存到 sample_labels_dev.txt 文件\n"
   ]
  },
  {
   "cell_type": "markdown",
   "id": "3a81f14e",
   "metadata": {},
   "source": [
    "现在，让我们为提供的文本文件生成预测。如果还指定了标签文件，则模型将评估预测并绘制混淆矩阵。"
   ]
  },
  {
   "cell_type": "raw",
   "id": "b1aff3fd",
   "metadata": {},
   "source": [
    "# evaluate model performance on sample\n",
    "ner_model.<<<<FIXME>>>>"
   ]
  },
  {
   "cell_type": "code",
   "execution_count": 17,
   "id": "095e47f0",
   "metadata": {},
   "outputs": [
    {
     "name": "stdout",
     "output_type": "stream",
     "text": [
      "[NeMo I 2024-09-26 08:16:52 token_classification_dataset:123] Setting Max Seq length to: 65\n",
      "[NeMo I 2024-09-26 08:16:52 data_preprocessing:404] Some stats of the lengths of the sequences:\n",
      "[NeMo I 2024-09-26 08:16:52 data_preprocessing:406] Min: 4 |                  Max: 65 |                  Mean: 29.78 |                  Median: 27.5\n",
      "[NeMo I 2024-09-26 08:16:52 data_preprocessing:412] 75 percentile: 38.25\n",
      "[NeMo I 2024-09-26 08:16:52 data_preprocessing:413] 99 percentile: 57.08\n"
     ]
    },
    {
     "name": "stderr",
     "output_type": "stream",
     "text": [
      "[NeMo W 2024-09-26 08:16:52 token_classification_dataset:152] 0 are longer than 65\n"
     ]
    },
    {
     "name": "stdout",
     "output_type": "stream",
     "text": [
      "[NeMo I 2024-09-26 08:16:52 token_classification_dataset:155] *** Example ***\n",
      "[NeMo I 2024-09-26 08:16:52 token_classification_dataset:156] i: 0\n",
      "[NeMo I 2024-09-26 08:16:52 token_classification_dataset:157] subtokens: [CLS] BRCA ##1 is secreted and exhibits properties of a gran ##in . [SEP]\n",
      "[NeMo I 2024-09-26 08:16:52 token_classification_dataset:158] loss_mask: 1 1 1 1 1 1 1 1 1 1 1 1 1 1 0 0 0 0 0 0 0 0 0 0 0 0 0 0 0 0 0 0 0 0 0 0 0 0 0 0 0 0 0 0 0 0 0 0 0 0 0 0 0 0 0 0 0 0 0 0 0 0 0 0 0\n",
      "[NeMo I 2024-09-26 08:16:52 token_classification_dataset:159] input_mask: 1 1 1 1 1 1 1 1 1 1 1 1 1 1 0 0 0 0 0 0 0 0 0 0 0 0 0 0 0 0 0 0 0 0 0 0 0 0 0 0 0 0 0 0 0 0 0 0 0 0 0 0 0 0 0 0 0 0 0 0 0 0 0 0 0\n",
      "[NeMo I 2024-09-26 08:16:52 token_classification_dataset:160] subtokens_mask: 0 1 0 1 1 1 1 1 1 1 1 0 1 0 0 0 0 0 0 0 0 0 0 0 0 0 0 0 0 0 0 0 0 0 0 0 0 0 0 0 0 0 0 0 0 0 0 0 0 0 0 0 0 0 0 0 0 0 0 0 0 0 0 0 0\n",
      "[NeMo I 2024-09-26 08:16:56 token_classification_model:464] Labels save to /dli/task/WORK_DIR/infer_sample_text_dev.txt\n",
      "[NeMo I 2024-09-26 08:16:56 token_classification_model:470] Predictions saved to /dli/task/WORK_DIR/infer_sample_text_dev.txt\n",
      "[NeMo I 2024-09-26 08:16:56 utils_funcs:109] Confusion matrix saved to /dli/task/WORK_DIR/Normalized_Confusion_matrix_20240926-081656\n",
      "[NeMo I 2024-09-26 08:16:56 token_classification_model:481]                          precision    recall  f1-score   support\n",
      "    \n",
      "            O (label id: 0)     0.9974    0.9905    0.9939      2307\n",
      "    B-Disease (label id: 1)     0.8384    0.9121    0.8737        91\n",
      "    I-Disease (label id: 2)     0.8915    0.9504    0.9200       121\n",
      "    \n",
      "                   accuracy                         0.9857      2519\n",
      "                  macro avg     0.9091    0.9510    0.9292      2519\n",
      "               weighted avg     0.9865    0.9857    0.9860      2519\n",
      "    \n"
     ]
    },
    {
     "data": {
      "image/png": "[encoded data removed]",
      "text/plain": [
       "<Figure size 640x480 with 2 Axes>"
      ]
     },
     "metadata": {},
     "output_type": "display_data"
    }
   ],
   "source": [
    "ner_model.half().evaluate_from_file(  # 使用 evaluate_from_file 方法评估模型性能，并使用 half() 将模型转换为半精度\n",
    "    text_file=os.path.join(NER_DATA_DIR, 'sample_text_dev.txt'),  # 指定评估使用的文本文件路径\n",
    "    labels_file=os.path.join(NER_DATA_DIR, 'sample_labels_dev.txt'),  # 指定评估使用的标签文件路径\n",
    "    output_dir=WORK_DIR,  # 指定评估结果保存的目录\n",
    "    add_confusion_matrix=True,  # 指定是否计算混淆矩阵\n",
    "    normalize_confusion_matrix=True,  # 指定是否对混淆矩阵进行归一化处理\n",
    "    batch_size=1  # 指定评估使用的批次大小\n",
    ")\n"
   ]
  },
  {
   "cell_type": "markdown",
   "id": "30054b1b",
   "metadata": {},
   "source": [
    "点击 ... 以显示解决方案。"
   ]
  },
  {
   "cell_type": "code",
   "execution_count": null,
   "id": "141b3c8d",
   "metadata": {},
   "outputs": [],
   "source": [
    "# 重启内核\n",
    "import IPython  # 导入 IPython 库\n",
    "\n",
    "app = IPython.Application.instance()  # 获取 IPython 应用实例\n",
    "app.kernel.do_shutdown(True)  # 使用 do_shutdown 方法关闭当前内核，并将参数设置为 True 以强制关闭内核\n"
   ]
  },
  {
   "cell_type": "markdown",
   "id": "cd9210e2",
   "metadata": {},
   "source": [
    "**干得好！** "
   ]
  },
  {
   "cell_type": "markdown",
   "id": "2cc710db",
   "metadata": {},
   "source": [
    "<center><a href=\"https://5loi.com/about_loi\"> <img src=\"images/DLI_Header.png\" alt=\"Header\" style=\"width: 400px;\"/> </a></center>"
   ]
  }
 ],
 "metadata": {
  "kernelspec": {
   "display_name": "Python 3 (ipykernel)",
   "language": "python",
   "name": "python3"
  },
  "language_info": {
   "codemirror_mode": {
    "name": "ipython",
    "version": 3
   },
   "file_extension": ".py",
   "mimetype": "text/x-python",
   "name": "python",
   "nbconvert_exporter": "python",
   "pygments_lexer": "ipython3",
   "version": "3.10.6"
  }
 },
 "nbformat": 4,
 "nbformat_minor": 5
}
