{
 "cells": [
  {
   "cell_type": "markdown",
   "id": "45a988bf",
   "metadata": {},
   "source": [
    "<center><a href=\"https://5loi.com/about_loi\"> <img src=\"images/DLI_Header.png\" alt=\"Header\" style=\"width: 400px;\"/> </a></center>"
   ]
  },
  {
   "cell_type": "markdown",
   "id": "cc590352",
   "metadata": {},
   "source": [
    "# 使用大型语言模型进行令牌分类 #\n",
    ">Token Classification with Large Language Models"
   ]
  },
  {
   "cell_type": "markdown",
   "id": "e5d191c2",
   "metadata": {},
   "source": [
    "## 01 - 使用预训练模型进行命名实体识别 ##\n",
    ">Named Entity Recognition with Pre-Trained Model\n",
    "\n",
    "在本笔记本中，您将学习如何使用预训练的令牌分类模型。具体来说，我们将使用命名实体识别模型。NER，也称为实体分块、识别或提取，是检测和分类文本中关键信息（实体）的任务。换句话说，NER 模型将一段文本作为输入，并针对文本中的每个单词，模型识别该单词所属的类别。例如，在一个句子中：`Mary lives in Santa Clara and works at NVIDIA`，模型应该检测到 `Mary` 是一个人，`Santa Clara` 是一个位置，`NVIDIA` 是一家公司。\n",
    "\n",
    "\n",
    "**目录** <br>\n",
    "本笔记本涵盖以下部分：\n",
    "* 项目概述\n",
    "* 数据集\n",
    "    * 下载和预处理数据(Preprocess data)\n",
    "    * 数据标注(Labeling Data)（可选）\n",
    "* 使用预训练模型(Pre-Trained Model)\n",
    "    * 下载模型\n",
    "    * 进行预测\n",
    "    * 模型评估\n",
    "* 微调(Fine-Tune)预训练模型\n"
   ]
  },
  {
   "cell_type": "markdown",
   "id": "1ab47892",
   "metadata": {},
   "source": [
    "## 项目概述 ##\n",
    ">Project Overview\n",
    "\n",
    "<img src='images/workflow.png' width=1080>"
   ]
  },
  {
   "cell_type": "markdown",
   "id": "5e2d7bf7",
   "metadata": {},
   "source": [
    "## 数据集 ##\n",
    ">Dataset\n",
    "\n",
    "对于本笔记本，我们将使用 [GMB（Groningen Meaning Bank, 格罗宁根语义库）](http://www.let.rug.nl/bjerva/gmb/about.php) 语料库进行命名实体识别。GMB 是一个相当大的语料库，包含大量注释。数据使用 [IOB 格式](https://en.wikipedia.org/wiki/Inside%E2%80%93outside%E2%80%93beginning_(tagging))（“内部”、“外部”、“开始”的缩写）进行标记，这意味着每个注释还需要 **I**、**O** 或 **B** 前缀。\n",
    "\n",
    "数据集中出现了以下类别：\n",
    "* **LOC** - 地理实体\n",
    "* **ORG** - 组织\n",
    "* **PER** - 人物\n",
    "* **GPE** - 地理政治实体\n",
    "* **TIME** - 时间指示符\n",
    "* **ART** - 人工制品\n",
    "* **EVE** - 事件\n",
    "* **NAT** - 自然现象\n",
    "\n",
    "\n",
    "_注意_：GMB 并非完全由人工标注(human annotated)，并且不被认为是 100% 正确的。在本练习中，由于这些类别的示例数量较少，因此将 **ART**、**EVE** 和 **NAT** 类合并为 **MISC** 类。\n",
    "\n",
    "The following classes appear in the dataset:\n",
    "* **LOC** - Geographical Entity\n",
    "* **ORG** - Organization\n",
    "* **PER** - Person\n",
    "* **GPE** - Geopolitical Entity\n",
    "* **TIME** - Time indicator\n",
    "* **ART** - Artifact\n",
    "* **EVE** - Event\n",
    "* **NAT** - Natural Phenomenon"
   ]
  },
  {
   "cell_type": "markdown",
   "id": "86867fe5",
   "metadata": {},
   "source": [
    "对于令牌分类任务，NeMo 要求数据采用特定的格式。数据需要分成以下文件：\n",
    "* `text.txt` 和 \n",
    "* `labels.txt`\n",
    "\n",
    "**text.txt** 文件的每一行包含文本序列，其中单词用空格分隔，例如：`[单词] [空格] [单词] [空格] [单词]`。**labels.txt** 文件包含 **text.txt** 中每个单词对应的标签，标签用空格分隔，例如：`[标签] [空格] [标签] [空格] [标签]`。\n",
    "\n",
    "\n",
    "例如：\n",
    "* **text.txt**\n",
    "```\n",
    "Jennifer is from New York City .\n",
    "She likes ...\n",
    "...\n",
    "```\n",
    "* **labels.txt**\n",
    "```\n",
    "B-PER O O B-LOC I-LOC I-LOC O\n",
    "O O ...\n",
    "...\n",
    "```\n"
   ]
  },
  {
   "cell_type": "markdown",
   "id": "28c616ad",
   "metadata": {},
   "source": [
    "### 下载和预处理数据 ###\n",
    ">Download and Preprocess Data"
   ]
  },
  {
   "cell_type": "code",
   "execution_count": 1,
   "id": "4d2e6ba3",
   "metadata": {
    "scrolled": true
   },
   "outputs": [],
   "source": [
    "# !pip install wget  # 安装 wget 库，用于下载文件\n",
    "import os  # 导入操作系统的库\n",
    "import wget  # 导入 wget 库，用于下载文件\n",
    "\n",
    "# 设置数据路径\n",
    "DATA_DIR=\"data/GMB\"  # 定义数据文件夹的路径\n"
   ]
  },
  {
   "cell_type": "code",
   "execution_count": 2,
   "id": "8079a417",
   "metadata": {
    "scrolled": true
   },
   "outputs": [
    {
     "name": "stdout",
     "output_type": "stream",
     "text": [
      "total 11140\n",
      "-rw-r--r-- 1 root root      77 Sep 26 05:49 label_ids.csv\n",
      "-rw-r--r-- 1 root root  407442 Sep 26 05:49 labels_dev.txt\n",
      "-rw-r--r-- 1 root root 3169783 Sep 26 05:49 labels_train.txt\n",
      "-rw-r--r-- 1 root root  891020 Sep 26 05:49 text_dev.txt\n",
      "-rw-r--r-- 1 root root 6928251 Sep 26 05:49 text_train.txt\n"
     ]
    }
   ],
   "source": [
    "# 检查数据文件夹是否包含 4 个文件\n",
    "!ls -l $DATA_DIR  # 使用 shell 命令 ls 列出数据文件夹的内容，并显示详细信息，例如文件大小和权限\n"
   ]
  },
  {
   "cell_type": "code",
   "execution_count": 3,
   "id": "bc68a9ce",
   "metadata": {
    "scrolled": true
   },
   "outputs": [
    {
     "name": "stdout",
     "output_type": "stream",
     "text": [
      "文本:\n",
      "New Zealand 's cricket team has scored a morale-boosting win over Bangladesh in the first of three one-day internationals in New Zealand .\n",
      "Despite Bangladesh 's highest total ever in a limited-overs match , the Kiwis were able to win the match by six wickets in Auckland .\n",
      "Opening batsman Jamie How led all scorers with 88 runs as New Zealand reached 203-4 in 42.1 overs .\n",
      "The score was in response to Bangladesh 's total of 201 all out in 46.3 overs .\n",
      "Mohammad Ashraful led the visitors with 70 runs , including 10 fours and one six on the short boundaries of the Eden Park ground .\n",
      "标签:\n",
      "B-LOC I-LOC O O O O O O O O O B-LOC O O B-TIME I-TIME I-TIME I-TIME O O B-LOC I-LOC O\n",
      "O B-LOC O O O O O O O O O O B-GPE O O O O O O O O O O B-LOC O\n",
      "O O B-PER I-PER O O O O O O O B-LOC I-LOC O O O O O O\n",
      "O O O O O O B-LOC O O O O O O O O O O\n",
      "B-PER I-PER O O O O O O O O O O O O O O O O O O O B-LOC I-LOC O O\n"
     ]
    }
   ],
   "source": [
    "# 预览数据\n",
    "print('文本:')  # 打印提示信息，指示即将显示文本数据\n",
    "!head -n 5 {DATA_DIR}/text_train.txt  # 使用 shell 命令 head 打印 text_train.txt 文件的前 5 行\n",
    "\n",
    "print('标签:')  # 打印提示信息，指示即将显示标签数据\n",
    "!head -n 5 {DATA_DIR}/labels_train.txt  # 使用 shell 命令 head 打印 labels_train.txt 文件的前 5 行\n"
   ]
  },
  {
   "cell_type": "markdown",
   "id": "27bae54f",
   "metadata": {},
   "source": [
    "### 数据标注 ###\n",
    ">Labeling Data\n",
    "\n",
    "如果您有原始数据，NeMo 建议使用 [Datasaur](https://datasaur.ai/) 标注平台来为数据应用标签。Datasaur 专为标注文本数据而设计，支持基本的 NLP 标注任务，例如命名实体识别和文本分类，以及高级 NLP 任务，例如依存句法分析和共指消解。您可以在 https://datasaur.ai/sign-up/ 免费注册 Datasaur。上传文件后，您可以从多种 NLP 项目类型中进行选择，并使用 Datasaur 界面对数据进行标注。标注后，您可以使用 conll_2003 格式导出标注数据，该格式可直接与 NeMo 集成。您可以在 [此处](https://www.youtube.com/watch?v=I9WVmnnSciE) 找到视频演练。\n"
   ]
  },
  {
   "cell_type": "markdown",
   "id": "c30e350a",
   "metadata": {},
   "source": [
    "## 使用预训练模型 ##\n",
    ">Use Pre-Trained Model\n",
    "\n",
    "NeMo 支持 NER 和其他令牌级分类任务。这些模型通常包含一个预训练的 [BERT](https://arxiv.org/pdf/1810.04805.pdf) 模型，后面跟着一个令牌分类层。我们首先使用一个预训练的模型。`TokenClassificationModel` 继承自 `NLPModel`，并具有以下方法：\n",
    "* `TokenClassificationModel.add_predictions()`\n",
    "* `TokenClassificationModel.evaluate_from_file()`\n",
    "\n",
    "这些方法在进行推理和评估模型性能时非常有用。`TokenClassificationModel` 的其他功能可以在 [源代码](https://github.com/NVIDIA/NeMo/blob/main/nemo/collections/nlp/models/token_classification/token_classification_model.py) 中找到。"
   ]
  },
  {
   "cell_type": "markdown",
   "id": "43dec7c1",
   "metadata": {},
   "source": [
    "### 下载预训练模型 ###\n",
    ">Download Pre-Trained Model"
   ]
  },
  {
   "cell_type": "code",
   "execution_count": 4,
   "id": "12086174",
   "metadata": {
    "scrolled": true
   },
   "outputs": [
    {
     "name": "stdout",
     "output_type": "stream",
     "text": [
      "Looking in indexes: https://pypi.org/simple, https://pypi.ngc.nvidia.com\n",
      "Requirement already satisfied: apex in /usr/local/lib/python3.10/dist-packages (0.1)\n",
      "Requirement already satisfied: packaging>20.6 in /usr/local/lib/python3.10/dist-packages (from apex) (23.1)\n",
      "\u001b[33mWARNING: Running pip as the 'root' user can result in broken permissions and conflicting behaviour with the system package manager. It is recommended to use a virtual environment instead: https://pip.pypa.io/warnings/venv\u001b[0m\n",
      "\u001b[33mWARNING: You are using pip version 21.2.4; however, version 24.2 is available.\n",
      "You should consider upgrading via the '/usr/bin/python -m pip install --upgrade pip' command.\u001b[0m\n",
      "NOTE! Installing ujson may make loading annotations faster.\n",
      "PretrainedModelInfo(\n",
      "\tpretrained_model_name=ner_en_bert,\n",
      "\tdescription=The model was trained on GMB (Groningen Meaning Bank) corpus for entity recognition and achieves 74.61 F1 Macro score.,\n",
      "\tlocation=https://api.ngc.nvidia.com/v2/models/nvidia/nemo/ner_en_bert/versions/1.10/files/ner_en_bert.nemo\n",
      ")\n"
     ]
    }
   ],
   "source": [
    "# !pip install git+https://github.com/NVIDIA/NeMo.git  # 安装 NeMo 库，用于自然语言处理任务\n",
    "# !pip install hydra-core  # 安装 Hydra 库，用于配置管理\n",
    "# !pip install pytorch_lightning  # 安装 PyTorch Lightning 库，用于深度学习模型训练和评估\n",
    "# !pip install einops  # 安装 Einops 库，用于张量操作\n",
    "# !pip install transformers  # 安装 Transformers 库，用于预训练语言模型\n",
    "# !pip install sentencepiece  # 安装 SentencePiece 库，用于分词\n",
    "# !pip install braceexpand  # 安装 BraceExpand 库，用于文件路径扩展\n",
    "# !pip install webdataset  # 安装 WebDataset 库，用于数据加载\n",
    "# !pip install h5py  # 安装 h5py 库，用于操作 HDF5 文件\n",
    "# !pip install ijson  # 安装 IJSON 库，用于解析 JSON 文件\n",
    "# !pip install pandas  # 安装 Pandas 库，用于数据分析和处理\n",
    "# !pip install sacremoses  # 安装 Sacremoses 库，用于自然语言处理任务\n",
    "# !pip install matplotlib  # 安装 Matplotlib 库，用于绘图\n",
    "# !pip install megatron  # 安装 Megatron 库，用于大规模语言模型训练\n",
    "# !pip install megatron.core  # 安装 Megatron.core 库，用于大规模语言模型训练\n",
    "# !pip install sacrebleu  # 安装 SacreBLEU 库，用于机器翻译评估\n",
    "# !pip install rouge_score  # 安装 Rouge-Score 库，用于文本摘要评估\n",
    "!pip install apex # 安装 apex 库，用于混合精度训练\n",
    "from nemo.collections.nlp.models import TokenClassificationModel  # 导入 TokenClassificationModel 类，用于命名实体识别任务\n",
    "\n",
    "# 列出可用的预训练模型\n",
    "for model in TokenClassificationModel.list_available_models():  # 遍历 TokenClassificationModel 类中定义的可用预训练模型\n",
    "    print(model)  # 打印每个模型的名称\n"
   ]
  },
  {
   "cell_type": "markdown",
   "id": "735765af",
   "metadata": {},
   "source": [
    "_注意_：这些模型是针对令牌分类训练的。要获取所有受支持模型的列表，请使用 `nemo.collections.nlp.modules.get_pretrained_lm_models_list(include_external=True)`。预训练模型列表预计会随着模型可用性的变化而变化。"
   ]
  },
  {
   "cell_type": "code",
   "execution_count": 5,
   "id": "bef49632",
   "metadata": {
    "scrolled": true
   },
   "outputs": [
    {
     "name": "stdout",
     "output_type": "stream",
     "text": [
      "[NeMo I 2024-09-26 07:10:50 cloud:68] Downloading from: https://api.ngc.nvidia.com/v2/models/nvidia/nemo/ner_en_bert/versions/1.10/files/ner_en_bert.nemo to /root/.cache/torch/NeMo/NeMo_1.20.0/ner_en_bert/8186f86c83b11d70b43b9ead695e7eda/ner_en_bert.nemo\n",
      "[NeMo I 2024-09-26 07:10:54 common:913] Instantiating model from pre-trained checkpoint\n",
      "[NeMo I 2024-09-26 07:10:57 tokenizer_utils:130] Getting HuggingFace AutoTokenizer with pretrained_model_name: bert-base-uncased, vocab_file: /tmp/tmpay_g3g_a/tokenizer.vocab_file, merges_files: None, special_tokens_dict: {}, and use_fast: False\n"
     ]
    },
    {
     "data": {
      "application/vnd.jupyter.widget-view+json": {
       "model_id": "7e28d5935d1b4740b2eed56e81804c4d",
       "version_major": 2,
       "version_minor": 0
      },
      "text/plain": [
       "Downloading tokenizer_config.json:   0%|          | 0.00/48.0 [00:00<?, ?B/s]"
      ]
     },
     "metadata": {},
     "output_type": "display_data"
    },
    {
     "data": {
      "application/vnd.jupyter.widget-view+json": {
       "model_id": "bf2f18e962204cc69daba819b732581d",
       "version_major": 2,
       "version_minor": 0
      },
      "text/plain": [
       "Downloading config.json:   0%|          | 0.00/570 [00:00<?, ?B/s]"
      ]
     },
     "metadata": {},
     "output_type": "display_data"
    },
    {
     "data": {
      "application/vnd.jupyter.widget-view+json": {
       "model_id": "aed900be4b374e45960f18ccc016cdf5",
       "version_major": 2,
       "version_minor": 0
      },
      "text/plain": [
       "Downloading vocab.txt:   0%|          | 0.00/232k [00:00<?, ?B/s]"
      ]
     },
     "metadata": {},
     "output_type": "display_data"
    },
    {
     "name": "stderr",
     "output_type": "stream",
     "text": [
      "Using eos_token, but it is not set yet.\n",
      "Using bos_token, but it is not set yet.\n",
      "[NeMo W 2024-09-26 07:10:57 modelPT:244] You tried to register an artifact under config key=tokenizer.vocab_file but an artifact for it has already been registered.\n",
      "[NeMo W 2024-09-26 07:10:57 modelPT:161] If you intend to do training or fine-tuning, please call the ModelPT.setup_training_data() method and provide a valid configuration file to setup the train data loader.\n",
      "    Train config : \n",
      "    text_file: text_train.txt\n",
      "    labels_file: labels_train.txt\n",
      "    shuffle: true\n",
      "    num_samples: -1\n",
      "    batch_size: 64\n",
      "    \n",
      "[NeMo W 2024-09-26 07:10:57 modelPT:168] If you intend to do validation, please call the ModelPT.setup_validation_data() or ModelPT.setup_multiple_validation_data() method and provide a valid configuration file to setup the validation data loader(s). \n",
      "    Validation config : \n",
      "    text_file: text_dev.txt\n",
      "    labels_file: labels_dev.txt\n",
      "    shuffle: false\n",
      "    num_samples: -1\n",
      "    batch_size: 64\n",
      "    \n",
      "[NeMo W 2024-09-26 07:10:57 modelPT:174] Please call the ModelPT.setup_test_data() or ModelPT.setup_multiple_test_data() method and provide a valid configuration file to setup the test data loader(s).\n",
      "    Test config : \n",
      "    text_file: text_dev.txt\n",
      "    labels_file: labels_dev.txt\n",
      "    shuffle: false\n",
      "    num_samples: -1\n",
      "    batch_size: 64\n",
      "    \n"
     ]
    },
    {
     "data": {
      "application/vnd.jupyter.widget-view+json": {
       "model_id": "3e855a6c46ca4d9ebb558e747e0a729f",
       "version_major": 2,
       "version_minor": 0
      },
      "text/plain": [
       "Downloading model.safetensors:   0%|          | 0.00/440M [00:00<?, ?B/s]"
      ]
     },
     "metadata": {},
     "output_type": "display_data"
    },
    {
     "name": "stderr",
     "output_type": "stream",
     "text": [
      "[NeMo W 2024-09-26 07:11:00 modelPT:244] You tried to register an artifact under config key=language_model.config_file but an artifact for it has already been registered.\n"
     ]
    },
    {
     "name": "stdout",
     "output_type": "stream",
     "text": [
      "[NeMo I 2024-09-26 07:11:01 save_restore_connector:249] Model TokenClassificationModel was successfully restored from /root/.cache/torch/NeMo/NeMo_1.20.0/ner_en_bert/8186f86c83b11d70b43b9ead695e7eda/ner_en_bert.nemo.\n"
     ]
    }
   ],
   "source": [
    "# 下载并加载预训练的基于 BERT 的命名实体识别模型\n",
    "pretrained_ner_model=TokenClassificationModel.from_pretrained(\"ner_en_bert\")  # 使用 from_pretrained 方法从 Hugging Face 模型库中下载并加载名为 \"ner_en_bert\" 的预训练模型\n"
   ]
  },
  {
   "cell_type": "markdown",
   "id": "f6168118",
   "metadata": {},
   "source": [
    "### 进行预测 ###\n",
    ">Make Predictions"
   ]
  },
  {
   "cell_type": "code",
   "execution_count": 6,
   "id": "c22cc6ee",
   "metadata": {
    "scrolled": true
   },
   "outputs": [
    {
     "name": "stdout",
     "output_type": "stream",
     "text": [
      "[NeMo I 2024-09-26 07:11:34 token_classification_dataset:123] Setting Max Seq length to: 17\n",
      "[NeMo I 2024-09-26 07:11:34 data_preprocessing:404] Some stats of the lengths of the sequences:\n",
      "[NeMo I 2024-09-26 07:11:34 data_preprocessing:406] Min: 9 |                  Max: 17 |                  Mean: 13.0 |                  Median: 13.0\n",
      "[NeMo I 2024-09-26 07:11:34 data_preprocessing:412] 75 percentile: 15.00\n",
      "[NeMo I 2024-09-26 07:11:34 data_preprocessing:413] 99 percentile: 16.92\n"
     ]
    },
    {
     "name": "stderr",
     "output_type": "stream",
     "text": [
      "[NeMo W 2024-09-26 07:11:34 token_classification_dataset:152] 0 are longer than 17\n"
     ]
    },
    {
     "name": "stdout",
     "output_type": "stream",
     "text": [
      "[NeMo I 2024-09-26 07:11:34 token_classification_dataset:155] *** Example ***\n",
      "[NeMo I 2024-09-26 07:11:34 token_classification_dataset:156] i: 0\n",
      "[NeMo I 2024-09-26 07:11:34 token_classification_dataset:157] subtokens: [CLS] we bought four shirts from the n ##vid ##ia gear store in santa clara . [SEP]\n",
      "[NeMo I 2024-09-26 07:11:34 token_classification_dataset:158] loss_mask: 1 1 1 1 1 1 1 1 1 1 1 1 1 1 1 1 1\n",
      "[NeMo I 2024-09-26 07:11:34 token_classification_dataset:159] input_mask: 1 1 1 1 1 1 1 1 1 1 1 1 1 1 1 1 1\n",
      "[NeMo I 2024-09-26 07:11:34 token_classification_dataset:160] subtokens_mask: 0 1 1 1 1 1 1 1 0 0 1 1 1 1 1 0 0\n",
      "查询 : we bought four shirts from the nvidia gear store in santa clara.\n",
      "结果: we bought four shirts from the nvidia[B-ORG] gear store in santa[B-LOC] clara[I-LOC].\n",
      "\n",
      "\n",
      "查询 : Nvidia is a company.\n",
      "结果: Nvidia[B-ORG] is a company.\n",
      "\n",
      "\n"
     ]
    }
   ],
   "source": [
    "# 定义用于推理的查询列表\n",
    "queries=[\n",
    "    'we bought four shirts from the nvidia gear store in santa clara.',  # 第一个查询语句\n",
    "    'Nvidia is a company.',  # 第二个查询语句\n",
    "]\n",
    "\n",
    "# 进行样本预测\n",
    "results=pretrained_ner_model.add_predictions(queries)  # 使用预训练模型对每个查询执行预测\n",
    "\n",
    "# 显示预测结果\n",
    "for query, result in zip(queries, results):  # 遍历每个查询和对应的预测结果\n",
    "    print(f'查询 : {query}')  # 打印查询语句\n",
    "    print(f'结果: {result.strip()}\\n')  # 打印预测结果，并去除结果字符串中的空格\n",
    "    print()  # 打印空行，以便区分每个查询的结果\n"
   ]
  },
  {
   "cell_type": "markdown",
   "id": "ed295508",
   "metadata": {},
   "source": [
    "### 评估预测结果 ###\n",
    ">Evaluate Predictions ###\n",
    "\n",
    "要查看模型的性能，我们可以生成类似于之前所做方式的预测，并将其与标签进行比较。或者，`evaluate_from_file()` 方法使我们能够根据 `text_file` 和 `labels_file` 评估模型。可以选择使用 `add_confusion_matrix` 来获取模型性能的可视化表示。"
   ]
  },
  {
   "cell_type": "code",
   "execution_count": 7,
   "id": "81ca3b98",
   "metadata": {},
   "outputs": [],
   "source": [
    "# 创建开发数据的一个子集\n",
    "!head -n 100 $DATA_DIR/text_dev.txt > $DATA_DIR/sample_text_dev.txt  # 使用 shell 命令 head 取出 text_dev.txt 文件的前 100 行，并保存到 sample_text_dev.txt 文件\n",
    "!head -n 100 $DATA_DIR/labels_dev.txt > $DATA_DIR/sample_labels_dev.txt  # 使用 shell 命令 head 取出 labels_dev.txt 文件的前 100 行，并保存到 sample_labels_dev.txt 文件\n"
   ]
  },
  {
   "cell_type": "markdown",
   "id": "5bd6d544",
   "metadata": {},
   "source": [
    "现在，让我们为提供的文本文件生成预测。如果也指定了标签文件，则模型将评估预测结果并绘制混淆矩阵。"
   ]
  },
  {
   "cell_type": "code",
   "execution_count": 8,
   "id": "3aef7dd5",
   "metadata": {
    "scrolled": true
   },
   "outputs": [
    {
     "name": "stdout",
     "output_type": "stream",
     "text": [
      "[NeMo I 2024-09-26 07:12:50 token_classification_dataset:123] Setting Max Seq length to: 70\n",
      "[NeMo I 2024-09-26 07:12:50 data_preprocessing:404] Some stats of the lengths of the sequences:\n",
      "[NeMo I 2024-09-26 07:12:50 data_preprocessing:406] Min: 11 |                  Max: 70 |                  Mean: 26.9 |                  Median: 26.0\n",
      "[NeMo I 2024-09-26 07:12:50 data_preprocessing:412] 75 percentile: 33.00\n",
      "[NeMo I 2024-09-26 07:12:50 data_preprocessing:413] 99 percentile: 65.05\n"
     ]
    },
    {
     "name": "stderr",
     "output_type": "stream",
     "text": [
      "[NeMo W 2024-09-26 07:12:50 token_classification_dataset:152] 0 are longer than 70\n"
     ]
    },
    {
     "name": "stdout",
     "output_type": "stream",
     "text": [
      "[NeMo I 2024-09-26 07:12:50 token_classification_dataset:155] *** Example ***\n",
      "[NeMo I 2024-09-26 07:12:50 token_classification_dataset:156] i: 0\n",
      "[NeMo I 2024-09-26 07:12:50 token_classification_dataset:157] subtokens: [CLS] hamas refuses to recognize israel , and has vowed to undermine palestinian leader mahmoud abbas ' s efforts to make peace with the jewish state . [SEP]\n",
      "[NeMo I 2024-09-26 07:12:50 token_classification_dataset:158] loss_mask: 1 1 1 1 1 1 1 1 1 1 1 1 1 1 1 1 1 1 1 1 1 1 1 1 1 1 1 1 0 0 0 0 0 0 0 0 0 0 0 0 0 0 0 0 0 0 0 0 0 0 0 0 0 0 0 0 0 0 0 0 0 0 0 0 0 0 0 0 0 0\n",
      "[NeMo I 2024-09-26 07:12:50 token_classification_dataset:159] input_mask: 1 1 1 1 1 1 1 1 1 1 1 1 1 1 1 1 1 1 1 1 1 1 1 1 1 1 1 1 0 0 0 0 0 0 0 0 0 0 0 0 0 0 0 0 0 0 0 0 0 0 0 0 0 0 0 0 0 0 0 0 0 0 0 0 0 0 0 0 0 0\n",
      "[NeMo I 2024-09-26 07:12:50 token_classification_dataset:160] subtokens_mask: 0 1 1 1 1 1 1 1 1 1 1 1 1 1 1 1 1 0 1 1 1 1 1 1 1 1 1 0 0 0 0 0 0 0 0 0 0 0 0 0 0 0 0 0 0 0 0 0 0 0 0 0 0 0 0 0 0 0 0 0 0 0 0 0 0 0 0 0 0 0\n",
      "[NeMo I 2024-09-26 07:12:51 token_classification_model:464] Labels save to /dli/task/WORK_DIR/infer_sample_text_dev.txt\n",
      "[NeMo I 2024-09-26 07:12:51 token_classification_model:470] Predictions saved to /dli/task/WORK_DIR/infer_sample_text_dev.txt\n",
      "[NeMo I 2024-09-26 07:12:51 utils_funcs:109] Confusion matrix saved to /dli/task/WORK_DIR/Normalized_Confusion_matrix_20240926-071251\n",
      "[NeMo I 2024-09-26 07:12:51 token_classification_model:481]                        precision    recall  f1-score   support\n",
      "    \n",
      "          O (label id: 0)     0.9878    0.9895    0.9887      1805\n",
      "      B-GPE (label id: 1)     0.9429    1.0000    0.9706        33\n",
      "      B-LOC (label id: 2)     0.9103    0.9103    0.9103        78\n",
      "     B-MISC (label id: 3)     0.6667    1.0000    0.8000         2\n",
      "      B-ORG (label id: 4)     0.8431    0.7544    0.7963        57\n",
      "      B-PER (label id: 5)     0.8095    0.8644    0.8361        59\n",
      "     B-TIME (label id: 6)     0.8936    0.9130    0.9032        46\n",
      "      I-GPE (label id: 7)     1.0000    1.0000    1.0000         4\n",
      "      I-LOC (label id: 8)     0.8000    0.8889    0.8421         9\n",
      "     I-ORG (label id: 10)     0.8421    0.6809    0.7529        47\n",
      "     I-PER (label id: 11)     0.8305    0.8750    0.8522        56\n",
      "    I-TIME (label id: 12)     0.8462    0.8462    0.8462        13\n",
      "    \n",
      "                 accuracy                         0.9651      2209\n",
      "                macro avg     0.8644    0.8935    0.8749      2209\n",
      "             weighted avg     0.9650    0.9651    0.9647      2209\n",
      "    \n"
     ]
    },
    {
     "data": {
      "image/png": "[encoded data removed]",
      "text/plain": [
       "<Figure size 640x480 with 2 Axes>"
      ]
     },
     "metadata": {},
     "output_type": "display_data"
    }
   ],
   "source": [
    "WORK_DIR = \"WORK_DIR\"  # 定义工作目录的路径\n",
    "\n",
    "# 评估模型在样本数据上的性能\n",
    "pretrained_ner_model.evaluate_from_file(  # 使用 evaluate_from_file 方法评估模型性能\n",
    "    text_file=os.path.join(DATA_DIR, 'sample_text_dev.txt'),  # 指定评估使用的文本文件路径\n",
    "    labels_file=os.path.join(DATA_DIR, 'sample_labels_dev.txt'),  # 指定评估使用的标签文件路径\n",
    "    output_dir=WORK_DIR,  # 指定评估结果保存的目录\n",
    "    add_confusion_matrix=True,  # 指定是否计算混淆矩阵\n",
    "    normalize_confusion_matrix=True,  # 指定是否对混淆矩阵进行归一化处理\n",
    "    batch_size=1  # 指定评估使用的批次大小\n",
    ")\n"
   ]
  },
  {
   "cell_type": "markdown",
   "id": "ef2f64f8",
   "metadata": {},
   "source": [
    "## 微调预训练模型 ##\n",
    ">Fine-Tune a Pre-Trained Model\n",
    "\n",
    "如果不指定配置文件，NeMo 将使用模型和训练器的默认配置。当微调预训练的 NER 模型时，我们需要在训练前设置训练和评估数据，如果文件名是 `labels_dev.txt`、`labels_train.txt`、`text_dev.txt` 和 `text_train.txt`，则数据集目录是唯一必需的参数。"
   ]
  },
  {
   "cell_type": "code",
   "execution_count": 9,
   "id": "3c0d736e",
   "metadata": {
    "scrolled": true
   },
   "outputs": [
    {
     "name": "stdout",
     "output_type": "stream",
     "text": [
      "[NeMo I 2024-09-26 07:13:29 token_classification_model:84] Setting model.dataset.data_dir to data/GMB.\n",
      "[NeMo I 2024-09-26 07:13:29 token_classification_utils:118] Processing data/GMB/labels_train.txt\n",
      "[NeMo I 2024-09-26 07:13:29 token_classification_utils:138] Using provided labels mapping {'O': 0, 'B-GPE': 1, 'B-LOC': 2, 'B-MISC': 3, 'B-ORG': 4, 'B-PER': 5, 'B-TIME': 6, 'I-GPE': 7, 'I-LOC': 8, 'I-MISC': 9, 'I-ORG': 10, 'I-PER': 11, 'I-TIME': 12}\n",
      "[NeMo I 2024-09-26 07:13:29 token_classification_utils:154] Labels mapping {'O': 0, 'B-GPE': 1, 'B-LOC': 2, 'B-MISC': 3, 'B-ORG': 4, 'B-PER': 5, 'B-TIME': 6, 'I-GPE': 7, 'I-LOC': 8, 'I-MISC': 9, 'I-ORG': 10, 'I-PER': 11, 'I-TIME': 12} saved to : data/GMB/label_ids.csv\n",
      "[NeMo I 2024-09-26 07:13:44 token_classification_utils:163] Three most popular labels in data/GMB/labels_train.txt:\n",
      "[NeMo I 2024-09-26 07:13:44 data_preprocessing:194] label: 0, 1014899 out of 1199472 (84.61%).\n",
      "[NeMo I 2024-09-26 07:13:44 data_preprocessing:194] label: 2, 43529 out of 1199472 (3.63%).\n",
      "[NeMo I 2024-09-26 07:13:44 data_preprocessing:194] label: 6, 23321 out of 1199472 (1.94%).\n",
      "[NeMo I 2024-09-26 07:13:44 token_classification_utils:165] Total labels: 1199472. Label frequencies - {0: 1014899, 2: 43529, 6: 23321, 4: 23215, 11: 19583, 10: 19515, 5: 19407, 1: 18074, 8: 8482, 12: 7555, 3: 1002, 9: 669, 7: 221}\n",
      "[NeMo I 2024-09-26 07:13:44 token_classification_utils:174] Class Weights: {0: 0.09091257053468071, 2: 2.119669115373129, 6: 3.956394533814027, 4: 3.9744594840868803, 11: 4.711590508250877, 10: 4.728008041151777, 5: 4.75431941686386, 1: 5.104961653373737, 8: 10.877985961221047, 12: 12.21271699842183, 3: 92.08291110087518, 9: 137.91790272507762, 7: 417.49808562478245}\n",
      "[NeMo I 2024-09-26 07:13:44 token_classification_utils:178] Class weights saved to data/GMB/labels_train_weights.p\n",
      "[NeMo I 2024-09-26 07:15:15 token_classification_dataset:123] Setting Max Seq length to: 128\n",
      "[NeMo I 2024-09-26 07:15:15 data_preprocessing:404] Some stats of the lengths of the sequences:\n",
      "[NeMo I 2024-09-26 07:15:15 data_preprocessing:406] Min: 3 |                  Max: 146 |                  Mean: 26.479218181818183 |                  Median: 26.0\n",
      "[NeMo I 2024-09-26 07:15:15 data_preprocessing:412] 75 percentile: 32.00\n",
      "[NeMo I 2024-09-26 07:15:15 data_preprocessing:413] 99 percentile: 51.00\n"
     ]
    },
    {
     "name": "stderr",
     "output_type": "stream",
     "text": [
      "[NeMo W 2024-09-26 07:15:18 token_classification_dataset:152] 1 are longer than 128\n"
     ]
    },
    {
     "name": "stdout",
     "output_type": "stream",
     "text": [
      "[NeMo I 2024-09-26 07:15:18 token_classification_dataset:155] *** Example ***\n",
      "[NeMo I 2024-09-26 07:15:18 token_classification_dataset:156] i: 0\n",
      "[NeMo I 2024-09-26 07:15:18 token_classification_dataset:157] subtokens: [CLS] new zealand ' s cricket team has scored a morale - boost ##ing win over bangladesh in the first of three one - day internationals in new zealand . [SEP]\n",
      "[NeMo I 2024-09-26 07:15:18 token_classification_dataset:158] loss_mask: 1 1 1 1 1 1 1 1 1 1 1 1 1 1 1 1 1 1 1 1 1 1 1 1 1 1 1 1 1 1 1 0 0 0 0 0 0 0 0 0 0 0 0 0 0 0 0 0 0 0 0 0 0 0 0 0 0 0 0 0 0 0 0 0 0 0 0 0 0 0 0 0 0 0 0 0 0 0 0 0 0 0 0 0 0 0 0 0 0 0 0 0 0 0 0 0 0 0 0 0 0 0 0 0 0 0 0 0 0 0 0 0 0 0 0 0 0 0 0 0 0 0 0 0 0 0 0 0\n",
      "[NeMo I 2024-09-26 07:15:18 token_classification_dataset:159] input_mask: 1 1 1 1 1 1 1 1 1 1 1 1 1 1 1 1 1 1 1 1 1 1 1 1 1 1 1 1 1 1 1 0 0 0 0 0 0 0 0 0 0 0 0 0 0 0 0 0 0 0 0 0 0 0 0 0 0 0 0 0 0 0 0 0 0 0 0 0 0 0 0 0 0 0 0 0 0 0 0 0 0 0 0 0 0 0 0 0 0 0 0 0 0 0 0 0 0 0 0 0 0 0 0 0 0 0 0 0 0 0 0 0 0 0 0 0 0 0 0 0 0 0 0 0 0 0 0 0\n",
      "[NeMo I 2024-09-26 07:15:18 token_classification_dataset:160] subtokens_mask: 0 1 1 1 0 1 1 1 1 1 1 0 0 0 1 1 1 1 1 1 1 1 1 0 0 1 1 1 1 1 0 0 0 0 0 0 0 0 0 0 0 0 0 0 0 0 0 0 0 0 0 0 0 0 0 0 0 0 0 0 0 0 0 0 0 0 0 0 0 0 0 0 0 0 0 0 0 0 0 0 0 0 0 0 0 0 0 0 0 0 0 0 0 0 0 0 0 0 0 0 0 0 0 0 0 0 0 0 0 0 0 0 0 0 0 0 0 0 0 0 0 0 0 0 0 0 0 0\n",
      "[NeMo I 2024-09-26 07:15:18 token_classification_dataset:162] labels: 0 2 8 0 0 0 0 0 0 0 0 0 0 0 0 0 2 0 0 6 12 12 12 12 12 0 0 2 8 0 0 0 0 0 0 0 0 0 0 0 0 0 0 0 0 0 0 0 0 0 0 0 0 0 0 0 0 0 0 0 0 0 0 0 0 0 0 0 0 0 0 0 0 0 0 0 0 0 0 0 0 0 0 0 0 0 0 0 0 0 0 0 0 0 0 0 0 0 0 0 0 0 0 0 0 0 0 0 0 0 0 0 0 0 0 0 0 0 0 0 0 0 0 0 0 0 0 0\n",
      "[NeMo I 2024-09-26 07:15:18 token_classification_dataset:278] features saved to data/GMB/cached__text_train.txt__labels_train.txt__BertTokenizer_128_30522_-1\n",
      "[NeMo I 2024-09-26 07:15:18 token_classification_utils:118] Processing data/GMB/labels_dev.txt\n",
      "[NeMo I 2024-09-26 07:15:18 token_classification_utils:138] Using provided labels mapping {'O': 0, 'B-GPE': 1, 'B-LOC': 2, 'B-MISC': 3, 'B-ORG': 4, 'B-PER': 5, 'B-TIME': 6, 'I-GPE': 7, 'I-LOC': 8, 'I-MISC': 9, 'I-ORG': 10, 'I-PER': 11, 'I-TIME': 12}\n",
      "[NeMo I 2024-09-26 07:15:20 token_classification_utils:163] Three most popular labels in data/GMB/labels_dev.txt:\n",
      "[NeMo I 2024-09-26 07:15:20 data_preprocessing:194] label: 0, 131141 out of 154648 (84.80%).\n",
      "[NeMo I 2024-09-26 07:15:20 data_preprocessing:194] label: 2, 5346 out of 154648 (3.46%).\n",
      "[NeMo I 2024-09-26 07:15:20 data_preprocessing:194] label: 4, 2980 out of 154648 (1.93%).\n",
      "[NeMo I 2024-09-26 07:15:20 token_classification_utils:165] Total labels: 154648. Label frequencies - {0: 131141, 2: 5346, 4: 2980, 6: 2975, 11: 2687, 5: 2577, 10: 2384, 1: 2362, 8: 1030, 12: 938, 3: 130, 9: 75, 7: 23}\n",
      "[NeMo I 2024-09-26 07:15:32 token_classification_dataset:123] Setting Max Seq length to: 79\n",
      "[NeMo I 2024-09-26 07:15:32 data_preprocessing:404] Some stats of the lengths of the sequences:\n",
      "[NeMo I 2024-09-26 07:15:32 data_preprocessing:406] Min: 5 |                  Max: 79 |                  Mean: 26.730346697103723 |                  Median: 26.0\n",
      "[NeMo I 2024-09-26 07:15:32 data_preprocessing:412] 75 percentile: 33.00\n",
      "[NeMo I 2024-09-26 07:15:32 data_preprocessing:413] 99 percentile: 51.00\n"
     ]
    },
    {
     "name": "stderr",
     "output_type": "stream",
     "text": [
      "[NeMo W 2024-09-26 07:15:32 token_classification_dataset:152] 0 are longer than 79\n"
     ]
    },
    {
     "name": "stdout",
     "output_type": "stream",
     "text": [
      "[NeMo I 2024-09-26 07:15:32 token_classification_dataset:155] *** Example ***\n",
      "[NeMo I 2024-09-26 07:15:32 token_classification_dataset:156] i: 0\n",
      "[NeMo I 2024-09-26 07:15:32 token_classification_dataset:157] subtokens: [CLS] hamas refuses to recognize israel , and has vowed to undermine palestinian leader mahmoud abbas ' s efforts to make peace with the jewish state . [SEP]\n",
      "[NeMo I 2024-09-26 07:15:32 token_classification_dataset:158] loss_mask: 1 1 1 1 1 1 1 1 1 1 1 1 1 1 1 1 1 1 1 1 1 1 1 1 1 1 1 1 0 0 0 0 0 0 0 0 0 0 0 0 0 0 0 0 0 0 0 0 0 0 0 0 0 0 0 0 0 0 0 0 0 0 0 0 0 0 0 0 0 0 0 0 0 0 0 0 0 0 0\n",
      "[NeMo I 2024-09-26 07:15:32 token_classification_dataset:159] input_mask: 1 1 1 1 1 1 1 1 1 1 1 1 1 1 1 1 1 1 1 1 1 1 1 1 1 1 1 1 0 0 0 0 0 0 0 0 0 0 0 0 0 0 0 0 0 0 0 0 0 0 0 0 0 0 0 0 0 0 0 0 0 0 0 0 0 0 0 0 0 0 0 0 0 0 0 0 0 0 0\n",
      "[NeMo I 2024-09-26 07:15:32 token_classification_dataset:160] subtokens_mask: 0 1 1 1 1 1 1 1 1 1 1 1 1 1 1 1 1 0 1 1 1 1 1 1 1 1 1 0 0 0 0 0 0 0 0 0 0 0 0 0 0 0 0 0 0 0 0 0 0 0 0 0 0 0 0 0 0 0 0 0 0 0 0 0 0 0 0 0 0 0 0 0 0 0 0 0 0 0 0\n",
      "[NeMo I 2024-09-26 07:15:32 token_classification_dataset:162] labels: 0 4 0 0 0 2 0 0 0 0 0 0 1 0 5 11 0 0 0 0 0 0 0 0 0 0 0 0 0 0 0 0 0 0 0 0 0 0 0 0 0 0 0 0 0 0 0 0 0 0 0 0 0 0 0 0 0 0 0 0 0 0 0 0 0 0 0 0 0 0 0 0 0 0 0 0 0 0 0\n",
      "[NeMo I 2024-09-26 07:15:32 token_classification_dataset:278] features saved to data/GMB/cached__text_dev.txt__labels_dev.txt__BertTokenizer_128_30522_-1\n"
     ]
    }
   ],
   "source": [
    "import pytorch_lightning as pl  # 导入 PyTorch Lightning 库，用于深度学习模型训练和评估\n",
    "\n",
    "# 设置数据目录以获取类别权重统计信息\n",
    "pretrained_ner_model.update_data_dir(DATA_DIR)  # 更新模型的数据目录，以便读取训练数据并计算类别权重\n",
    "\n",
    "# 设置训练和验证 PyTorch 数据加载器\n",
    "pretrained_ner_model.setup_training_data()  # 设置训练数据加载器\n",
    "pretrained_ner_model.setup_validation_data()  # 设置验证数据加载器\n"
   ]
  },
  {
   "cell_type": "code",
   "execution_count": 10,
   "id": "9c393e38",
   "metadata": {},
   "outputs": [
    {
     "data": {
      "text/plain": [
       "CrossEntropyLoss()"
      ]
     },
     "execution_count": 10,
     "metadata": {},
     "output_type": "execute_result"
    }
   ],
   "source": [
    "# 设置损失函数\n",
    "pretrained_ner_model.setup_loss()  # 设置模型使用的损失函数\n"
   ]
  },
  {
   "cell_type": "markdown",
   "id": "8b246779",
   "metadata": {},
   "source": [
    "_Note:_ Use `class_balancing='weighted_loss'` if you want to add class weights to the `CrossEntropyLoss`. "
   ]
  },
  {
   "cell_type": "code",
   "execution_count": 11,
   "id": "d4b8b427",
   "metadata": {
    "scrolled": true
   },
   "outputs": [
    {
     "name": "stderr",
     "output_type": "stream",
     "text": [
      "GPU available: True (cuda), used: True\n",
      "TPU available: False, using: 0 TPU cores\n",
      "IPU available: False, using: 0 IPUs\n",
      "HPU available: False, using: 0 HPUs\n",
      "Running in `fast_dev_run` mode: will run the requested loop using 1 batch(es). Logging and checkpointing is suppressed.\n",
      "LOCAL_RANK: 0 - CUDA_VISIBLE_DEVICES: [0]\n"
     ]
    },
    {
     "name": "stdout",
     "output_type": "stream",
     "text": [
      "[NeMo I 2024-09-26 07:16:08 modelPT:721] Optimizer config = Adam (\n",
      "    Parameter Group 0\n",
      "        amsgrad: False\n",
      "        betas: (0.9, 0.999)\n",
      "        capturable: False\n",
      "        differentiable: False\n",
      "        eps: 1e-08\n",
      "        foreach: None\n",
      "        fused: None\n",
      "        lr: 5e-05\n",
      "        maximize: False\n",
      "        weight_decay: 0.0\n",
      "    )\n",
      "[NeMo I 2024-09-26 07:16:08 lr_scheduler:910] Scheduler \"<nemo.core.optim.lr_scheduler.WarmupAnnealing object at 0x7f3083efbf40>\" \n",
      "    will be used during training (effective maximum steps = 1) - \n",
      "    Parameters : \n",
      "    (warmup_steps: null\n",
      "    warmup_ratio: 0.1\n",
      "    last_epoch: -1\n",
      "    max_steps: 1\n",
      "    )\n"
     ]
    },
    {
     "name": "stderr",
     "output_type": "stream",
     "text": [
      "\n",
      "  | Name                  | Type                 | Params\n",
      "---------------------------------------------------------------\n",
      "0 | bert_model            | BertEncoder          | 109 M \n",
      "1 | classifier            | TokenClassifier      | 600 K \n",
      "2 | loss                  | CrossEntropyLoss     | 0     \n",
      "3 | classification_report | ClassificationReport | 0     \n",
      "---------------------------------------------------------------\n",
      "110 M     Trainable params\n",
      "0         Non-trainable params\n",
      "110 M     Total params\n",
      "440.331   Total estimated model params size (MB)\n",
      "[NeMo W 2024-09-26 07:16:08 nemo_logging:349] /usr/local/lib/python3.10/dist-packages/pytorch_lightning/trainer/connectors/data_connector.py:224: PossibleUserWarning: The dataloader, train_dataloader, does not have many workers which may be a bottleneck. Consider increasing the value of the `num_workers` argument` (try 16 which is the number of cpus on this machine) in the `DataLoader` init to improve performance.\n",
      "      rank_zero_warn(\n",
      "    \n",
      "[NeMo W 2024-09-26 07:16:08 nemo_logging:349] /usr/local/lib/python3.10/dist-packages/pytorch_lightning/trainer/trainer.py:1609: PossibleUserWarning: The number of training batches (1) is smaller than the logging interval Trainer(log_every_n_steps=50). Set a lower value for log_every_n_steps if you want to see logs for the training epoch.\n",
      "      rank_zero_warn(\n",
      "    \n",
      "[NeMo W 2024-09-26 07:16:08 nemo_logging:349] /usr/local/lib/python3.10/dist-packages/pytorch_lightning/trainer/connectors/data_connector.py:224: PossibleUserWarning: The dataloader, val_dataloader 0, does not have many workers which may be a bottleneck. Consider increasing the value of the `num_workers` argument` (try 16 which is the number of cpus on this machine) in the `DataLoader` init to improve performance.\n",
      "      rank_zero_warn(\n",
      "    \n"
     ]
    },
    {
     "data": {
      "application/vnd.jupyter.widget-view+json": {
       "model_id": "a6465e8b30134a85acaf2b6131eff7d6",
       "version_major": 2,
       "version_minor": 0
      },
      "text/plain": [
       "Training: 0it [00:00, ?it/s]"
      ]
     },
     "metadata": {},
     "output_type": "display_data"
    },
    {
     "data": {
      "application/vnd.jupyter.widget-view+json": {
       "model_id": "aa86999e1983480ca4a9670f02e21f67",
       "version_major": 2,
       "version_minor": 0
      },
      "text/plain": [
       "Validation: 0it [00:00, ?it/s]"
      ]
     },
     "metadata": {},
     "output_type": "display_data"
    },
    {
     "name": "stdout",
     "output_type": "stream",
     "text": [
      "[NeMo I 2024-09-26 07:16:08 token_classification_model:159] \n",
      "    label                                                precision    recall       f1           support   \n",
      "    O (label_id: 0)                                         99.13      98.71      98.92       1161\n",
      "    B-GPE (label_id: 1)                                     90.91     100.00      95.24         20\n",
      "    B-LOC (label_id: 2)                                     85.71      95.45      90.32         44\n",
      "    B-MISC (label_id: 3)                                   100.00     100.00     100.00          2\n",
      "    B-ORG (label_id: 4)                                     80.95      77.27      79.07         44\n",
      "    B-PER (label_id: 5)                                     83.33      88.89      86.02         45\n",
      "    B-TIME (label_id: 6)                                    81.48      95.65      88.00         23\n",
      "    I-GPE (label_id: 7)                                    100.00     100.00     100.00          4\n",
      "    I-LOC (label_id: 8)                                     80.00      80.00      80.00          5\n",
      "    I-MISC (label_id: 9)                                     0.00       0.00       0.00          0\n",
      "    I-ORG (label_id: 10)                                    80.00      66.67      72.73         30\n",
      "    I-PER (label_id: 11)                                    91.67      80.49      85.71         41\n",
      "    I-TIME (label_id: 12)                                   70.00     100.00      82.35          7\n",
      "    -------------------\n",
      "    micro avg                                               96.35      96.35      96.35       1426\n",
      "    macro avg                                               86.93      90.26      88.20       1426\n",
      "    weighted avg                                            96.44      96.35      96.33       1426\n",
      "    \n"
     ]
    },
    {
     "name": "stderr",
     "output_type": "stream",
     "text": [
      "`Trainer.fit` stopped: `max_steps=1` reached.\n"
     ]
    }
   ],
   "source": [
    "# 创建一个 PyTorch Lightning 训练器，并再次调用 `fit` 方法\n",
    "fast_dev_run= True  # 设置是否进行快速开发运行，用于快速测试模型\n",
    "trainer=pl.Trainer(devices=1, accelerator='gpu', fast_dev_run=fast_dev_run)  # 创建一个训练器，指定使用 1 个 GPU 进行训练，并设置快速开发运行\n",
    "trainer.fit(pretrained_ner_model)  # 使用训练器对模型进行训练\n"
   ]
  },
  {
   "cell_type": "markdown",
   "id": "04651c87",
   "metadata": {},
   "source": [
    "_注意_：在训练模型时，我们可以使用配置文件来设置模型（和训练器trainer）。由于我们执行的任务与预训练模型相同，因此不需要这样做。我们将在下一个笔记本中训练一个自定义令牌分类模型，这将需要使用配置文件。此外，为了演示，我们将 `fast_dev_run` 设置为 `True`，这样训练器将运行 1 个训练批次和 1 个验证批次。对于实际的模型训练，请禁用此标志。"
   ]
  },
  {
   "cell_type": "code",
   "execution_count": 12,
   "id": "a2168fe3",
   "metadata": {
    "scrolled": true
   },
   "outputs": [
    {
     "name": "stdout",
     "output_type": "stream",
     "text": [
      "[NeMo I 2024-09-26 07:16:18 token_classification_dataset:123] Setting Max Seq length to: 70\n",
      "[NeMo I 2024-09-26 07:16:18 data_preprocessing:404] Some stats of the lengths of the sequences:\n",
      "[NeMo I 2024-09-26 07:16:18 data_preprocessing:406] Min: 11 |                  Max: 70 |                  Mean: 26.9 |                  Median: 26.0\n",
      "[NeMo I 2024-09-26 07:16:18 data_preprocessing:412] 75 percentile: 33.00\n",
      "[NeMo I 2024-09-26 07:16:18 data_preprocessing:413] 99 percentile: 65.05\n"
     ]
    },
    {
     "name": "stderr",
     "output_type": "stream",
     "text": [
      "[NeMo W 2024-09-26 07:16:18 token_classification_dataset:152] 0 are longer than 70\n"
     ]
    },
    {
     "name": "stdout",
     "output_type": "stream",
     "text": [
      "[NeMo I 2024-09-26 07:16:18 token_classification_dataset:155] *** Example ***\n",
      "[NeMo I 2024-09-26 07:16:18 token_classification_dataset:156] i: 0\n",
      "[NeMo I 2024-09-26 07:16:18 token_classification_dataset:157] subtokens: [CLS] hamas refuses to recognize israel , and has vowed to undermine palestinian leader mahmoud abbas ' s efforts to make peace with the jewish state . [SEP]\n",
      "[NeMo I 2024-09-26 07:16:18 token_classification_dataset:158] loss_mask: 1 1 1 1 1 1 1 1 1 1 1 1 1 1 1 1 1 1 1 1 1 1 1 1 1 1 1 1 0 0 0 0 0 0 0 0 0 0 0 0 0 0 0 0 0 0 0 0 0 0 0 0 0 0 0 0 0 0 0 0 0 0 0 0 0 0 0 0 0 0\n",
      "[NeMo I 2024-09-26 07:16:18 token_classification_dataset:159] input_mask: 1 1 1 1 1 1 1 1 1 1 1 1 1 1 1 1 1 1 1 1 1 1 1 1 1 1 1 1 0 0 0 0 0 0 0 0 0 0 0 0 0 0 0 0 0 0 0 0 0 0 0 0 0 0 0 0 0 0 0 0 0 0 0 0 0 0 0 0 0 0\n",
      "[NeMo I 2024-09-26 07:16:18 token_classification_dataset:160] subtokens_mask: 0 1 1 1 1 1 1 1 1 1 1 1 1 1 1 1 1 0 1 1 1 1 1 1 1 1 1 0 0 0 0 0 0 0 0 0 0 0 0 0 0 0 0 0 0 0 0 0 0 0 0 0 0 0 0 0 0 0 0 0 0 0 0 0 0 0 0 0 0 0\n",
      "[NeMo I 2024-09-26 07:16:19 token_classification_model:464] Labels save to /dli/task/WORK_DIR/infer_sample_text_dev.txt\n",
      "[NeMo I 2024-09-26 07:16:19 token_classification_model:470] Predictions saved to /dli/task/WORK_DIR/infer_sample_text_dev.txt\n",
      "[NeMo I 2024-09-26 07:16:19 utils_funcs:109] Confusion matrix saved to /dli/task/WORK_DIR/Normalized_Confusion_matrix_20240926-071619\n",
      "[NeMo I 2024-09-26 07:16:19 token_classification_model:481]                        precision    recall  f1-score   support\n",
      "    \n",
      "          O (label id: 0)     0.9911    0.9839    0.9875      1805\n",
      "      B-GPE (label id: 1)     0.9429    1.0000    0.9706        33\n",
      "      B-LOC (label id: 2)     0.8721    0.9615    0.9146        78\n",
      "     B-MISC (label id: 3)     1.0000    1.0000    1.0000         2\n",
      "      B-ORG (label id: 4)     0.8333    0.7895    0.8108        57\n",
      "      B-PER (label id: 5)     0.7681    0.8983    0.8281        59\n",
      "     B-TIME (label id: 6)     0.8400    0.9130    0.8750        46\n",
      "      I-GPE (label id: 7)     1.0000    1.0000    1.0000         4\n",
      "      I-LOC (label id: 8)     0.7778    0.7778    0.7778         9\n",
      "     I-ORG (label id: 10)     0.8250    0.7021    0.7586        47\n",
      "     I-PER (label id: 11)     0.9038    0.8393    0.8704        56\n",
      "    I-TIME (label id: 12)     0.6875    0.8462    0.7586        13\n",
      "    \n",
      "                 accuracy                         0.9633      2209\n",
      "                macro avg     0.8701    0.8926    0.8793      2209\n",
      "             weighted avg     0.9646    0.9633    0.9635      2209\n",
      "    \n"
     ]
    },
    {
     "data": {
      "image/png": "[encoded data removed]",
      "text/plain": [
       "<Figure size 640x480 with 2 Axes>"
      ]
     },
     "metadata": {},
     "output_type": "display_data"
    }
   ],
   "source": [
    "# 评估模型在样本数据上的性能\n",
    "pretrained_ner_model.evaluate_from_file(  # 使用 evaluate_from_file 方法评估模型性能\n",
    "    text_file=os.path.join(DATA_DIR, 'sample_text_dev.txt'),  # 指定评估使用的文本文件路径\n",
    "    labels_file=os.path.join(DATA_DIR, 'sample_labels_dev.txt'),  # 指定评估使用的标签文件路径\n",
    "    output_dir=WORK_DIR,  # 指定评估结果保存的目录\n",
    "    add_confusion_matrix=True,  # 指定是否计算混淆矩阵\n",
    "    normalize_confusion_matrix=True,  # 指定是否对混淆矩阵进行归一化处理\n",
    "    batch_size=1  # 指定评估使用的批次大小\n",
    ")\n"
   ]
  },
  {
   "cell_type": "code",
   "execution_count": 13,
   "id": "dab2e94f",
   "metadata": {},
   "outputs": [
    {
     "data": {
      "text/plain": [
       "{'status': 'ok', 'restart': True}"
      ]
     },
     "execution_count": 13,
     "metadata": {},
     "output_type": "execute_result"
    }
   ],
   "source": [
    "# 重启内核\n",
    "import IPython  # 导入 IPython 库\n",
    "\n",
    "app = IPython.Application.instance()  # 获取 IPython 应用实例\n",
    "app.kernel.do_shutdown(True)  # 使用 do_shutdown 方法关闭当前内核，并将参数设置为 True 以强制关闭内核\n"
   ]
  },
  {
   "cell_type": "markdown",
   "id": "94a847c5",
   "metadata": {},
   "source": [
    "**做得好！** 准备好后，让我们转到 [下一个笔记本](./02_domain-specific_token_classification_model.ipynb)。"
   ]
  },
  {
   "cell_type": "markdown",
   "id": "95fab1df",
   "metadata": {},
   "source": [
    "<center><a href=\"https://5loi.com/about_loi\"> <img src=\"images/DLI_Header.png\" alt=\"Header\" style=\"width: 400px;\"/> </a></center>"
   ]
  }
 ],
 "metadata": {
  "kernelspec": {
   "display_name": "Python 3 (ipykernel)",
   "language": "python",
   "name": "python3"
  },
  "language_info": {
   "codemirror_mode": {
    "name": "ipython",
    "version": 3
   },
   "file_extension": ".py",
   "mimetype": "text/x-python",
   "name": "python",
   "nbconvert_exporter": "python",
   "pygments_lexer": "ipython3",
   "version": "3.10.6"
  }
 },
 "nbformat": 4,
 "nbformat_minor": 5
}
